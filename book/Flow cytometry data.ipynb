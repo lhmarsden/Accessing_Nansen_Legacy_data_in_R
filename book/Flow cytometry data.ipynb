{
 "cells": [
  {
   "cell_type": "markdown",
   "id": "28942b27-496e-4e36-ab31-ab1a416cd777",
   "metadata": {},
   "source": [
    "# Flow cytometry"
   ]
  },
  {
   "cell_type": "markdown",
   "id": "7d8f4ec3",
   "metadata": {},
   "source": [
    "Let's first load in some libraries that we are going to use today. If you are not sure whether you have the library installed, you can embed *install.packages* within an *if* statement, like this"
   ]
  },
  {
   "cell_type": "code",
   "execution_count": 1,
   "id": "6699ff0e",
   "metadata": {},
   "outputs": [],
   "source": [
    "if (!requireNamespace(\"RNetCDF\", quietly = TRUE)) {\n",
    "  install.packages(\"RNetCDF\")\n",
    "}\n",
    "library(RNetCDF)\n",
    "if (!requireNamespace(\"writexl\", quietly = TRUE)) {\n",
    "  install.packages(\"writexl\")\n",
    "}\n",
    "library(writexl)"
   ]
  },
  {
   "cell_type": "markdown",
   "id": "0a3fab42-0dbf-488a-97c3-11643aabc21d",
   "metadata": {},
   "source": [
    "## Accessing the data\n",
    "\n",
    "The data are available via a THREDDS server that you can find here:\n",
    "https://opendap1.nodc.no/opendap/hyrax/projects/nansen_legacy/cytometry/\n",
    "\n",
    "If you open the link above, you can navigate to different NetCDF files, and you will be linked to OPeNDAP data access forms like this one:\n",
    "https://opendap1.nodc.no/opendap/hyrax/projects/nansen_legacy/cytometry/Flow_cytometry_measurements_during_Nansen_Legacy_cruise_2021704_station_P6_in_the_Northern_Barents_Sea.nc.html\n",
    "\n",
    "OPeNDAP makes it possible to access data over the internet without you having to download the data to your computer first. You can just remove the *html* suffix from the URL above and include it in your R script in the same way that you might include some absolute filepath to a file on your computer. \n",
    "\n",
    "So now let's load the data into R for this cast."
   ]
  },
  {
   "cell_type": "code",
   "execution_count": 2,
   "id": "796f1c01-f57c-4047-93c8-133796f4a1d0",
   "metadata": {
    "vscode": {
     "languageId": "r"
    }
   },
   "outputs": [
    {
     "name": "stdout",
     "output_type": "stream",
     "text": [
      "netcdf classic {\n",
      "dimensions:\n",
      "\tdepth = 14 ;\n",
      "\tmaxStrlen64 = 64 ;\n",
      "\ttaxon = 18 ;\n",
      "variables:\n",
      "\tNC_FLOAT depth(depth) ;\n",
      "\t\tNC_CHAR depth:standard_name = \"depth\" ;\n",
      "\t\tNC_CHAR depth:long_name = \"Depth below surface in sea water\" ;\n",
      "\t\tNC_CHAR depth:coverage_content_type = \"coordinate\" ;\n",
      "\t\tNC_CHAR depth:units = \"m\" ;\n",
      "\t\tNC_CHAR depth:positive = \"down\" ;\n",
      "\tNC_CHAR taxon_name(maxStrlen64, taxon) ;\n",
      "\t\tNC_CHAR taxon_name:standard_name = \"biological_taxon_name\" ;\n",
      "\t\tNC_CHAR taxon_name:long_name = \"FCM_group\" ;\n",
      "\t\tNC_INT taxon_name:string_length = 80 ;\n",
      "\tNC_DOUBLE abundance(depth, taxon) ;\n",
      "\t\tNC_CHAR abundance:standard_name = \"number_concentration_of_biological_taxon_in_sea_water\" ;\n",
      "\t\tNC_CHAR abundance:long_name = \"concentration_of_organisms_of_FCM_group_per_mL_sample\" ;\n",
      "\t\tNC_CHAR abundance:coverage_content_type = \"physicalMeasurement\" ;\n",
      "\t\tNC_CHAR abundance:units = \"ml-1\" ;\n",
      "\t\tNC_CHAR abundance:coordinates = \"taxon_name\" ;\n",
      "\n",
      "// global attributes:\n",
      "\t\tNC_CHAR :title = \"Flow cytometry measurements (abundance of virus, bacteria and small protists (primarily <20μm)) during Nansen Legacy cruise 2021704 (from April 27th to May 20th in 2021) at station P6 (NLEG21) in the Northern Barents Sea\" ;\n",
      "\t\tNC_CHAR :naming_authority = \"University of Bergen\" ;\n",
      "\t\tNC_CHAR :id = \"664b2632-98b8-45fa-bbb6-17cd038c4e25\" ;\n",
      "\t\tNC_CHAR :summary = \"Flow cytometry (FCM) is a fast, high-throughput method to enumerate the abundance of microorganism (smaller than 20 µm). FCM uses the hydrodynamic focusing of a laminar flow to separate and line up microscopic particles. When particles pass a laser beam, the generated light scattering can be used to estimate their cell size, obtain information about cell granularity and surface characteristics and determine fluorescence of either pigments or applied stains, such as DNA binding stains. Photosynthetic microorganisms have auto-fluorescent pigments, such as chlorophylls and can be grouped using these auto-fluorescence properties in combination with cell size. Heterotrophic microorganisms, including archaea, bacteria and heterotrophic nanoflagellates, and virus do not have fluorescent pigments and require staining, for example using SYBR Green to stain Nucleic Acids (DNA) in order to distinguish these cells from other organic and inorganic particles in the sample. \n",
      "Our samples for flow cytometric abundance analysis were taken in triplicates of 2 mL of sample water and fixed with 36 μL 25 % glutaraldehyde (0.5 % final concentration) at 4 °C in the dark for approximately 2 hours, then flash frozen in liquid nitrogen and stored until analysis at -80 °C. The abundance of pico- and nano-sized phytoplankton and heterotrophic nanoflagellates (HNF) were determined using an Attune® NxT, Acoustic Focusing Cytometer (Invitrogen by Thermo Fisher Scientific) with a syringe-based fluidic system and a 20 mW 488 nm (blue) laser. Autotrophic pico-and nano-sized plankton were counted directly after thawing and the various groups discriminated based on their red fluorescence (BL3) vs. orange fluorescence (BL2), red fluorescence (BL3) vs. side scatter (SSC) and orange fluorescence (BL2) vs. side scatter (SSC). For HNF analysis, samples were stained with SYBR Green I for 2 h in the dark and subsequently 1-2mL were measured at a flow rate of 500 µl min-1 following the protocol of Zubkov et al. 2007. The abundance of virus and bacteria was determined using a FACS Calibur (Becton Dickinson) flow cytometer. Prior analysis of virus and bacteria, samples were first thawed, diluted x10 and x100 with 0.2 μm filtered TE buffer (Tris 10 mM, EDTA 1 mM, pH 8), stained with a green fluorescent nucleic acid dye (SYBR Green I ; Molecular Probes, Eugene, Oregon, USA) and then incubated for 10 min at 80°C in a water bath (Marie et al. 1999). Stained samples were counted at a low flow rate of around 60 µL min-1 and different groups discriminated on a biparametric plot of green florescence (BL1) vs. side scatter (SSC). This allowed to distinguish virus particles of different sizes, and different bacterial groups including low nuclear acid (LNA) and high nuclear acid (HNA) bacteria. Names of size groups of photosynthetic and heterotrophic organisms are in accordance to “Standards and Best Practices For Reporting Flow Cytometry Observations: a technical manual (Version 1.1)” (https://repository.oceanbestpractices.org/handle/11329/2111.2). A short summary is listed here: RedPico = picophytoplankton (1-2 µm); RedNano = Nanophytoplankton (2-10µm), which includes subgroups RedNanoSmall (2-5 µm), RedNanoLarge (5-10 µm) and RedNanoVeryLarge (10-20µm); OraPico = Nanophytoplankton with more orange fluorescence; OraNano = Cryptophytes; OraPicoProk = Synechococcus; HetNano = heterotrophic nanoflagellates; HetProk = bacteria (and when present archaea); HetLNA = low nucleic acid (LNA) containing bacteria; HetHNA = high nucleic acid (HNA) containing bacteria with the subgroups HetProkMedium = HNA-bacteria subgroup with less fluorescence signal and HetProkLarge = HNA-bacteria subgroup with more fluorescence signal; Virus = virus particles, including size refined subgroups VirusSmall = small-sized virus particles, VirusMedium = medium-sized virus particles and VirusLarge = large-sized virus particles)\" ;\n",
      "\t\tNC_CHAR :keywords = \"\n",
      "EARTH SCIENCE > OCEANS ; EARTH SCIENCE > BIOLOGICAL CLASSIFICATION > BACTERIA/ARCHAEA ; EARTH SCIENCE > BIOLOGICAL CLASSIFICATION > PROTISTS > PLANKTON ; EARTH SCIENCE > BIOLOGICAL CLASSIFICATION > VIRUSES\" ;\n",
      "\t\tNC_CHAR :keywords_vocabulary = \"GCMD\" ;\n",
      "\t\tNC_DOUBLE :geospatial_lat_min = 81.54993205 ;\n",
      "\t\tNC_DOUBLE :geospatial_lat_max = 81.54993205 ;\n",
      "\t\tNC_DOUBLE :geospatial_lon_min = 30.8167937166667 ;\n",
      "\t\tNC_DOUBLE :geospatial_lon_max = 30.8167937166667 ;\n",
      "\t\tNC_CHAR :time_coverage_start = \"2021-05-10T21:45:30.024Z\" ;\n",
      "\t\tNC_CHAR :time_coverage_end = \"2021-05-10T21:45:30.024Z\" ;\n",
      "\t\tNC_CHAR :Conventions = \"ACDD-1.3; CF-1.10\" ;\n",
      "\t\tNC_CHAR :history = \"File created using RNetCDF in R at 2023-05-08T08:02:51Z\" ;\n",
      "\t\tNC_CHAR :source = \"Different groups of microorganisms indentified using flow cytometry in a water sample from a CTD with Niskin bottles\" ;\n",
      "\t\tNC_CHAR :processing_level = \"Flow cytometry gating in accordance to standardized norms (https://repository.oceanbestpractices.org/handle/11329/2111.2)\" ;\n",
      "\t\tNC_CHAR :date_created = \"2023-05-08T08:02:51Z\" ;\n",
      "\t\tNC_CHAR :creator_type = \"person\" ;\n",
      "\t\tNC_CHAR :creator_institution = \"University of Bergen\" ;\n",
      "\t\tNC_CHAR :creator_email = \"oliver.muller@uib.no\" ;\n",
      "\t\tNC_CHAR :creator_url = \"https://orcid.org/0000-0001-5405-052X\" ;\n",
      "\t\tNC_CHAR :creator_name = \"Oliver Müller\" ;\n",
      "\t\tNC_CHAR :publisher_name = \"Norwegian Marine Datacentre\" ;\n",
      "\t\tNC_CHAR :publisher_url = \"https://nmdc.no/\" ;\n",
      "\t\tNC_CHAR :publisher_email = \"datahjelp@imr.no\" ;\n",
      "\t\tNC_CHAR :publisher_type = \"institution\" ;\n",
      "\t\tNC_CHAR :project = \"The Nansen Legacy (RCN # 276730)\" ;\n",
      "\t\tNC_CHAR :license = \"https://creativecommons.org/licenses/by/4.0/\" ;\n",
      "\t\tNC_CHAR :metadata_link = \"DOI PROVIDED BY DATA CENTRE – THAT LINKS TO THE LANDING PAGE OF THE DATA\" ;\n",
      "\t\tNC_CHAR :acknowledgements = \"Funded by the Research Council of Norway.\" ;\n",
      "}\n"
     ]
    }
   ],
   "source": [
    "url <- 'https://opendap1.nodc.no/opendap/hyrax/projects/nansen_legacy/cytometry/Flow_cytometry_measurements_during_Nansen_Legacy_cruise_2021704_station_P6_in_the_Northern_Barents_Sea.nc'\n",
    "data <- open.nc(url)\n",
    "print.nc(data)"
   ]
  },
  {
   "cell_type": "markdown",
   "id": "56b7cc7d",
   "metadata": {},
   "source": [
    "The data have 3 dimensions; *depth*, *taxon* and *maxStrlen64*.\n",
    "\n",
    "Let's look at each variable in turn as it can take some time to understand why these data have been structured like this. This is as recommended by the CF conventions, and you can read the relevant section here:\n",
    "https://cfconventions.org/Data/cf-conventions/cf-conventions-1.11/cf-conventions.html#taxon-names-and-identifiers\n",
    "\n",
    "Note that our file is a bit different because we have a depth profile instead of a time series.\n",
    "\n",
    "### Depth\n",
    "\n",
    "This is an easy one. *depth* is just a 1D variable."
   ]
  },
  {
   "cell_type": "code",
   "execution_count": 3,
   "id": "96f834a2",
   "metadata": {},
   "outputs": [
    {
     "data": {
      "text/html": [
       "<style>\n",
       ".list-inline {list-style: none; margin:0; padding: 0}\n",
       ".list-inline>li {display: inline-block}\n",
       ".list-inline>li:not(:last-child)::after {content: \"\\00b7\"; padding: 0 .5ex}\n",
       "</style>\n",
       "<ol class=list-inline><li>0.5</li><li>9</li><li>19</li><li>30</li><li>40</li><li>49</li><li>59</li><li>89</li><li>119</li><li>150</li><li>200</li><li>501</li><li>750</li><li>901</li></ol>\n"
      ],
      "text/latex": [
       "\\begin{enumerate*}\n",
       "\\item 0.5\n",
       "\\item 9\n",
       "\\item 19\n",
       "\\item 30\n",
       "\\item 40\n",
       "\\item 49\n",
       "\\item 59\n",
       "\\item 89\n",
       "\\item 119\n",
       "\\item 150\n",
       "\\item 200\n",
       "\\item 501\n",
       "\\item 750\n",
       "\\item 901\n",
       "\\end{enumerate*}\n"
      ],
      "text/markdown": [
       "1. 0.5\n",
       "2. 9\n",
       "3. 19\n",
       "4. 30\n",
       "5. 40\n",
       "6. 49\n",
       "7. 59\n",
       "8. 89\n",
       "9. 119\n",
       "10. 150\n",
       "11. 200\n",
       "12. 501\n",
       "13. 750\n",
       "14. 901\n",
       "\n",
       "\n"
      ],
      "text/plain": [
       " [1]   0.5   9.0  19.0  30.0  40.0  49.0  59.0  89.0 119.0 150.0 200.0 501.0\n",
       "[13] 750.0 901.0"
      ]
     },
     "metadata": {},
     "output_type": "display_data"
    }
   ],
   "source": [
    "depth <- var.get.nc(data, \"depth\")\n",
    "depth"
   ]
  },
  {
   "cell_type": "markdown",
   "id": "9dccbe88",
   "metadata": {},
   "source": [
    "### Taxon names\n",
    "\n",
    "Here we have 2 dimension, *maxStrlen64* and *taxon*.\n",
    "\n",
    "One question might immediately spring to mind. Why do we need 2 dimensions for the taxon names? Well, the *taxon* dimension defines the number of taxon listed in the file (18 in this case). *maxStrlen64* is the maximum number of characters in the name of each taxon.\n",
    "\n",
    "Words are often handled like this in CF-NetCDF as some programmes don't allow you to write multiple characters into a single data value. So let's extract the taxon names into something we can use."
   ]
  },
  {
   "cell_type": "code",
   "execution_count": 4,
   "id": "b35f596e",
   "metadata": {},
   "outputs": [
    {
     "data": {
      "text/html": [
       "<style>\n",
       ".list-inline {list-style: none; margin:0; padding: 0}\n",
       ".list-inline>li {display: inline-block}\n",
       ".list-inline>li:not(:last-child)::after {content: \"\\00b7\"; padding: 0 .5ex}\n",
       "</style>\n",
       "<ol class=list-inline><li>'RedPico'</li><li>'RedNano'</li><li>'RedNanoSmall'</li><li>'RedNanoLarge'</li><li>'OraPico'</li><li>'RedNanoVeryLarge'</li><li>'OraNano'</li><li>'OraPicoProk'</li><li>'HetNano'</li><li>'HetProk'</li><li>'HetLNA'</li><li>'HetHNA'</li><li>'HetProkMedium'</li><li>'HetProkLarge'</li><li>'Virus'</li><li>'VirusSmall'</li><li>'VirusMedium'</li><li>'VirusLarge'</li></ol>\n"
      ],
      "text/latex": [
       "\\begin{enumerate*}\n",
       "\\item 'RedPico'\n",
       "\\item 'RedNano'\n",
       "\\item 'RedNanoSmall'\n",
       "\\item 'RedNanoLarge'\n",
       "\\item 'OraPico'\n",
       "\\item 'RedNanoVeryLarge'\n",
       "\\item 'OraNano'\n",
       "\\item 'OraPicoProk'\n",
       "\\item 'HetNano'\n",
       "\\item 'HetProk'\n",
       "\\item 'HetLNA'\n",
       "\\item 'HetHNA'\n",
       "\\item 'HetProkMedium'\n",
       "\\item 'HetProkLarge'\n",
       "\\item 'Virus'\n",
       "\\item 'VirusSmall'\n",
       "\\item 'VirusMedium'\n",
       "\\item 'VirusLarge'\n",
       "\\end{enumerate*}\n"
      ],
      "text/markdown": [
       "1. 'RedPico'\n",
       "2. 'RedNano'\n",
       "3. 'RedNanoSmall'\n",
       "4. 'RedNanoLarge'\n",
       "5. 'OraPico'\n",
       "6. 'RedNanoVeryLarge'\n",
       "7. 'OraNano'\n",
       "8. 'OraPicoProk'\n",
       "9. 'HetNano'\n",
       "10. 'HetProk'\n",
       "11. 'HetLNA'\n",
       "12. 'HetHNA'\n",
       "13. 'HetProkMedium'\n",
       "14. 'HetProkLarge'\n",
       "15. 'Virus'\n",
       "16. 'VirusSmall'\n",
       "17. 'VirusMedium'\n",
       "18. 'VirusLarge'\n",
       "\n",
       "\n"
      ],
      "text/plain": [
       " [1] \"RedPico\"          \"RedNano\"          \"RedNanoSmall\"     \"RedNanoLarge\"    \n",
       " [5] \"OraPico\"          \"RedNanoVeryLarge\" \"OraNano\"          \"OraPicoProk\"     \n",
       " [9] \"HetNano\"          \"HetProk\"          \"HetLNA\"           \"HetHNA\"          \n",
       "[13] \"HetProkMedium\"    \"HetProkLarge\"     \"Virus\"            \"VirusSmall\"      \n",
       "[17] \"VirusMedium\"      \"VirusLarge\"      "
      ]
     },
     "metadata": {},
     "output_type": "display_data"
    }
   ],
   "source": [
    "taxon_names <- var.get.nc(data, \"taxon_name\")\n",
    "taxon_names"
   ]
  },
  {
   "cell_type": "markdown",
   "id": "16ba5136",
   "metadata": {},
   "source": [
    "What has happened here?! The data seem to have been extracted as a 1 dimensional array, one value (word) per element. See, the dimensions of out *taxon_names* variable is just *18*, not *18 x 64*. RNetCDF has extracted the data into a useful format for us automatically."
   ]
  },
  {
   "cell_type": "code",
   "execution_count": 5,
   "id": "8b31f0f6",
   "metadata": {},
   "outputs": [
    {
     "data": {
      "text/html": [
       "18"
      ],
      "text/latex": [
       "18"
      ],
      "text/markdown": [
       "18"
      ],
      "text/plain": [
       "[1] 18"
      ]
     },
     "metadata": {},
     "output_type": "display_data"
    }
   ],
   "source": [
    "dim(taxon_names)"
   ]
  },
  {
   "cell_type": "markdown",
   "id": "a73ccfaa",
   "metadata": {},
   "source": [
    "### Abundance\n",
    "\n",
    "The *abundance* data have 2 dimensions, *depth* and *taxon*."
   ]
  },
  {
   "cell_type": "code",
   "execution_count": 6,
   "id": "6031c3d6",
   "metadata": {},
   "outputs": [
    {
     "data": {
      "text/html": [
       "<table class=\"dataframe\">\n",
       "<caption>A matrix: 14 × 18 of type dbl</caption>\n",
       "<tbody>\n",
       "\t<tr><td> 974</td><td>1313</td><td>766</td><td>351</td><td>196</td><td>25</td><td>10</td><td>3</td><td>38</td><td>185009.14</td><td>45521.02</td><td>135831.81</td><td> 71846.44</td><td>63985.37</td><td>1917733.1</td><td>1438756.9</td><td>396709.3</td><td> 82266.91</td></tr>\n",
       "\t<tr><td>2011</td><td> 950</td><td>818</td><td>115</td><td> 17</td><td> 6</td><td> 4</td><td>0</td><td>63</td><td>185009.14</td><td>45521.02</td><td>135831.81</td><td> 71846.44</td><td>63985.37</td><td>2173491.8</td><td>1669287.0</td><td>414076.8</td><td> 90127.97</td></tr>\n",
       "\t<tr><td>2397</td><td>1019</td><td>897</td><td>112</td><td> 10</td><td> 5</td><td> 5</td><td>0</td><td>75</td><td>144241.32</td><td>38208.41</td><td>102742.23</td><td> 69469.84</td><td>33272.39</td><td>2240403.0</td><td>1748995.0</td><td>402925.0</td><td> 88483.00</td></tr>\n",
       "\t<tr><td>1419</td><td>1106</td><td>929</td><td>154</td><td> 23</td><td>11</td><td> 6</td><td>1</td><td>79</td><td>189396.71</td><td>38574.04</td><td>144241.32</td><td> 88482.63</td><td>55758.68</td><td>4696526.5</td><td>3987202.9</td><td>588665.4</td><td>120658.14</td></tr>\n",
       "\t<tr><td>1133</td><td> 978</td><td>821</td><td>118</td><td> 39</td><td> 9</td><td> 5</td><td>0</td><td>78</td><td>205850.09</td><td>39670.93</td><td>161060.33</td><td>103290.68</td><td>57769.65</td><td>2303473.5</td><td>1762340.0</td><td>457038.4</td><td> 84095.06</td></tr>\n",
       "\t<tr><td> 712</td><td> 696</td><td>544</td><td>137</td><td> 15</td><td>13</td><td> 2</td><td>0</td><td>99</td><td>162522.85</td><td>38025.59</td><td>120109.69</td><td> 82998.17</td><td>37111.52</td><td>2106032.9</td><td>1557586.8</td><td>477148.1</td><td> 71297.99</td></tr>\n",
       "\t<tr><td> 425</td><td> 325</td><td>254</td><td> 67</td><td>  4</td><td> 6</td><td> 2</td><td>1</td><td>35</td><td>168555.76</td><td>41499.09</td><td>122669.10</td><td> 83912.25</td><td>38756.86</td><td>1804387.6</td><td>1257769.7</td><td>460694.7</td><td> 85923.22</td></tr>\n",
       "\t<tr><td> 193</td><td> 122</td><td>106</td><td> 14</td><td>  2</td><td> 0</td><td> 1</td><td>2</td><td>46</td><td>117733.09</td><td>36197.44</td><td> 79707.50</td><td> 50091.41</td><td>29616.09</td><td>1645338.2</td><td>1124314.4</td><td>424131.6</td><td> 96892.14</td></tr>\n",
       "\t<tr><td> 100</td><td>  75</td><td> 58</td><td> 14</td><td>  3</td><td> 1</td><td> 0</td><td>2</td><td>41</td><td>112979.89</td><td>36745.89</td><td> 75502.74</td><td> 47531.99</td><td>27970.75</td><td>1687385.7</td><td>1206581.4</td><td>409506.4</td><td> 71297.99</td></tr>\n",
       "\t<tr><td> 105</td><td>  54</td><td> 42</td><td> 12</td><td>  0</td><td> 1</td><td> 0</td><td>0</td><td>55</td><td> 99451.55</td><td>32906.76</td><td> 66179.16</td><td> 42595.98</td><td>23583.18</td><td>1696526.5</td><td>1248628.9</td><td>365630.7</td><td> 82266.91</td></tr>\n",
       "\t<tr><td>  65</td><td>  56</td><td> 46</td><td>  9</td><td>  1</td><td> 0</td><td> 0</td><td>2</td><td>49</td><td>104387.57</td><td>37294.33</td><td> 64899.45</td><td> 42047.53</td><td>22851.92</td><td>1793967.1</td><td>1255758.7</td><td>434552.1</td><td>103656.31</td></tr>\n",
       "\t<tr><td>  37</td><td>  33</td><td> 19</td><td> 11</td><td>  3</td><td> 0</td><td> 0</td><td>2</td><td>32</td><td> 80987.20</td><td>25045.70</td><td> 54661.79</td><td> 35648.99</td><td>19012.80</td><td>1491407.7</td><td>1088482.6</td><td>328884.8</td><td> 74040.22</td></tr>\n",
       "\t<tr><td>   9</td><td>   5</td><td>  3</td><td>  2</td><td>  0</td><td> 0</td><td> 0</td><td>0</td><td>25</td><td> 57404.02</td><td>19012.80</td><td> 38391.22</td><td> 24497.26</td><td>13893.97</td><td> 993784.3</td><td> 729250.5</td><td>213162.7</td><td> 51371.12</td></tr>\n",
       "\t<tr><td>   4</td><td>   1</td><td>  1</td><td>  0</td><td>  0</td><td> 0</td><td> 0</td><td>1</td><td>22</td><td> 53930.53</td><td>17001.83</td><td> 36745.89</td><td> 21937.84</td><td>14808.04</td><td> 850457.0</td><td> 620475.3</td><td>183546.6</td><td> 46435.10</td></tr>\n",
       "</tbody>\n",
       "</table>\n"
      ],
      "text/latex": [
       "A matrix: 14 × 18 of type dbl\n",
       "\\begin{tabular}{llllllllllllllllll}\n",
       "\t  974 & 1313 & 766 & 351 & 196 & 25 & 10 & 3 & 38 & 185009.14 & 45521.02 & 135831.81 &  71846.44 & 63985.37 & 1917733.1 & 1438756.9 & 396709.3 &  82266.91\\\\\n",
       "\t 2011 &  950 & 818 & 115 &  17 &  6 &  4 & 0 & 63 & 185009.14 & 45521.02 & 135831.81 &  71846.44 & 63985.37 & 2173491.8 & 1669287.0 & 414076.8 &  90127.97\\\\\n",
       "\t 2397 & 1019 & 897 & 112 &  10 &  5 &  5 & 0 & 75 & 144241.32 & 38208.41 & 102742.23 &  69469.84 & 33272.39 & 2240403.0 & 1748995.0 & 402925.0 &  88483.00\\\\\n",
       "\t 1419 & 1106 & 929 & 154 &  23 & 11 &  6 & 1 & 79 & 189396.71 & 38574.04 & 144241.32 &  88482.63 & 55758.68 & 4696526.5 & 3987202.9 & 588665.4 & 120658.14\\\\\n",
       "\t 1133 &  978 & 821 & 118 &  39 &  9 &  5 & 0 & 78 & 205850.09 & 39670.93 & 161060.33 & 103290.68 & 57769.65 & 2303473.5 & 1762340.0 & 457038.4 &  84095.06\\\\\n",
       "\t  712 &  696 & 544 & 137 &  15 & 13 &  2 & 0 & 99 & 162522.85 & 38025.59 & 120109.69 &  82998.17 & 37111.52 & 2106032.9 & 1557586.8 & 477148.1 &  71297.99\\\\\n",
       "\t  425 &  325 & 254 &  67 &   4 &  6 &  2 & 1 & 35 & 168555.76 & 41499.09 & 122669.10 &  83912.25 & 38756.86 & 1804387.6 & 1257769.7 & 460694.7 &  85923.22\\\\\n",
       "\t  193 &  122 & 106 &  14 &   2 &  0 &  1 & 2 & 46 & 117733.09 & 36197.44 &  79707.50 &  50091.41 & 29616.09 & 1645338.2 & 1124314.4 & 424131.6 &  96892.14\\\\\n",
       "\t  100 &   75 &  58 &  14 &   3 &  1 &  0 & 2 & 41 & 112979.89 & 36745.89 &  75502.74 &  47531.99 & 27970.75 & 1687385.7 & 1206581.4 & 409506.4 &  71297.99\\\\\n",
       "\t  105 &   54 &  42 &  12 &   0 &  1 &  0 & 0 & 55 &  99451.55 & 32906.76 &  66179.16 &  42595.98 & 23583.18 & 1696526.5 & 1248628.9 & 365630.7 &  82266.91\\\\\n",
       "\t   65 &   56 &  46 &   9 &   1 &  0 &  0 & 2 & 49 & 104387.57 & 37294.33 &  64899.45 &  42047.53 & 22851.92 & 1793967.1 & 1255758.7 & 434552.1 & 103656.31\\\\\n",
       "\t   37 &   33 &  19 &  11 &   3 &  0 &  0 & 2 & 32 &  80987.20 & 25045.70 &  54661.79 &  35648.99 & 19012.80 & 1491407.7 & 1088482.6 & 328884.8 &  74040.22\\\\\n",
       "\t    9 &    5 &   3 &   2 &   0 &  0 &  0 & 0 & 25 &  57404.02 & 19012.80 &  38391.22 &  24497.26 & 13893.97 &  993784.3 &  729250.5 & 213162.7 &  51371.12\\\\\n",
       "\t    4 &    1 &   1 &   0 &   0 &  0 &  0 & 1 & 22 &  53930.53 & 17001.83 &  36745.89 &  21937.84 & 14808.04 &  850457.0 &  620475.3 & 183546.6 &  46435.10\\\\\n",
       "\\end{tabular}\n"
      ],
      "text/markdown": [
       "\n",
       "A matrix: 14 × 18 of type dbl\n",
       "\n",
       "|  974 | 1313 | 766 | 351 | 196 | 25 | 10 | 3 | 38 | 185009.14 | 45521.02 | 135831.81 |  71846.44 | 63985.37 | 1917733.1 | 1438756.9 | 396709.3 |  82266.91 |\n",
       "| 2011 |  950 | 818 | 115 |  17 |  6 |  4 | 0 | 63 | 185009.14 | 45521.02 | 135831.81 |  71846.44 | 63985.37 | 2173491.8 | 1669287.0 | 414076.8 |  90127.97 |\n",
       "| 2397 | 1019 | 897 | 112 |  10 |  5 |  5 | 0 | 75 | 144241.32 | 38208.41 | 102742.23 |  69469.84 | 33272.39 | 2240403.0 | 1748995.0 | 402925.0 |  88483.00 |\n",
       "| 1419 | 1106 | 929 | 154 |  23 | 11 |  6 | 1 | 79 | 189396.71 | 38574.04 | 144241.32 |  88482.63 | 55758.68 | 4696526.5 | 3987202.9 | 588665.4 | 120658.14 |\n",
       "| 1133 |  978 | 821 | 118 |  39 |  9 |  5 | 0 | 78 | 205850.09 | 39670.93 | 161060.33 | 103290.68 | 57769.65 | 2303473.5 | 1762340.0 | 457038.4 |  84095.06 |\n",
       "|  712 |  696 | 544 | 137 |  15 | 13 |  2 | 0 | 99 | 162522.85 | 38025.59 | 120109.69 |  82998.17 | 37111.52 | 2106032.9 | 1557586.8 | 477148.1 |  71297.99 |\n",
       "|  425 |  325 | 254 |  67 |   4 |  6 |  2 | 1 | 35 | 168555.76 | 41499.09 | 122669.10 |  83912.25 | 38756.86 | 1804387.6 | 1257769.7 | 460694.7 |  85923.22 |\n",
       "|  193 |  122 | 106 |  14 |   2 |  0 |  1 | 2 | 46 | 117733.09 | 36197.44 |  79707.50 |  50091.41 | 29616.09 | 1645338.2 | 1124314.4 | 424131.6 |  96892.14 |\n",
       "|  100 |   75 |  58 |  14 |   3 |  1 |  0 | 2 | 41 | 112979.89 | 36745.89 |  75502.74 |  47531.99 | 27970.75 | 1687385.7 | 1206581.4 | 409506.4 |  71297.99 |\n",
       "|  105 |   54 |  42 |  12 |   0 |  1 |  0 | 0 | 55 |  99451.55 | 32906.76 |  66179.16 |  42595.98 | 23583.18 | 1696526.5 | 1248628.9 | 365630.7 |  82266.91 |\n",
       "|   65 |   56 |  46 |   9 |   1 |  0 |  0 | 2 | 49 | 104387.57 | 37294.33 |  64899.45 |  42047.53 | 22851.92 | 1793967.1 | 1255758.7 | 434552.1 | 103656.31 |\n",
       "|   37 |   33 |  19 |  11 |   3 |  0 |  0 | 2 | 32 |  80987.20 | 25045.70 |  54661.79 |  35648.99 | 19012.80 | 1491407.7 | 1088482.6 | 328884.8 |  74040.22 |\n",
       "|    9 |    5 |   3 |   2 |   0 |  0 |  0 | 0 | 25 |  57404.02 | 19012.80 |  38391.22 |  24497.26 | 13893.97 |  993784.3 |  729250.5 | 213162.7 |  51371.12 |\n",
       "|    4 |    1 |   1 |   0 |   0 |  0 |  0 | 1 | 22 |  53930.53 | 17001.83 |  36745.89 |  21937.84 | 14808.04 |  850457.0 |  620475.3 | 183546.6 |  46435.10 |\n",
       "\n"
      ],
      "text/plain": [
       "      [,1] [,2] [,3] [,4] [,5] [,6] [,7] [,8] [,9] [,10]     [,11]    [,12]    \n",
       " [1,]  974 1313 766  351  196  25   10   3    38   185009.14 45521.02 135831.81\n",
       " [2,] 2011  950 818  115   17   6    4   0    63   185009.14 45521.02 135831.81\n",
       " [3,] 2397 1019 897  112   10   5    5   0    75   144241.32 38208.41 102742.23\n",
       " [4,] 1419 1106 929  154   23  11    6   1    79   189396.71 38574.04 144241.32\n",
       " [5,] 1133  978 821  118   39   9    5   0    78   205850.09 39670.93 161060.33\n",
       " [6,]  712  696 544  137   15  13    2   0    99   162522.85 38025.59 120109.69\n",
       " [7,]  425  325 254   67    4   6    2   1    35   168555.76 41499.09 122669.10\n",
       " [8,]  193  122 106   14    2   0    1   2    46   117733.09 36197.44  79707.50\n",
       " [9,]  100   75  58   14    3   1    0   2    41   112979.89 36745.89  75502.74\n",
       "[10,]  105   54  42   12    0   1    0   0    55    99451.55 32906.76  66179.16\n",
       "[11,]   65   56  46    9    1   0    0   2    49   104387.57 37294.33  64899.45\n",
       "[12,]   37   33  19   11    3   0    0   2    32    80987.20 25045.70  54661.79\n",
       "[13,]    9    5   3    2    0   0    0   0    25    57404.02 19012.80  38391.22\n",
       "[14,]    4    1   1    0    0   0    0   1    22    53930.53 17001.83  36745.89\n",
       "      [,13]     [,14]    [,15]     [,16]     [,17]    [,18]    \n",
       " [1,]  71846.44 63985.37 1917733.1 1438756.9 396709.3  82266.91\n",
       " [2,]  71846.44 63985.37 2173491.8 1669287.0 414076.8  90127.97\n",
       " [3,]  69469.84 33272.39 2240403.0 1748995.0 402925.0  88483.00\n",
       " [4,]  88482.63 55758.68 4696526.5 3987202.9 588665.4 120658.14\n",
       " [5,] 103290.68 57769.65 2303473.5 1762340.0 457038.4  84095.06\n",
       " [6,]  82998.17 37111.52 2106032.9 1557586.8 477148.1  71297.99\n",
       " [7,]  83912.25 38756.86 1804387.6 1257769.7 460694.7  85923.22\n",
       " [8,]  50091.41 29616.09 1645338.2 1124314.4 424131.6  96892.14\n",
       " [9,]  47531.99 27970.75 1687385.7 1206581.4 409506.4  71297.99\n",
       "[10,]  42595.98 23583.18 1696526.5 1248628.9 365630.7  82266.91\n",
       "[11,]  42047.53 22851.92 1793967.1 1255758.7 434552.1 103656.31\n",
       "[12,]  35648.99 19012.80 1491407.7 1088482.6 328884.8  74040.22\n",
       "[13,]  24497.26 13893.97  993784.3  729250.5 213162.7  51371.12\n",
       "[14,]  21937.84 14808.04  850457.0  620475.3 183546.6  46435.10"
      ]
     },
     "metadata": {},
     "output_type": "display_data"
    }
   ],
   "source": [
    "abundance <- var.get.nc(data, 'abundance')\n",
    "abundance"
   ]
  },
  {
   "cell_type": "markdown",
   "id": "35e07de4",
   "metadata": {},
   "source": [
    "So the data are easily extracted as a 2D matrix where each row represents a different depth and each column represents a different taxon.\n",
    "\n",
    "## Creating a dataframe including all of this information together\n",
    "\n",
    "So let's now combine all these variables into a dataframe that we can export to a CSV or XLSX file.\n",
    "\n",
    "We want the taxon names as the column headers and the depth to be written for each row."
   ]
  },
  {
   "cell_type": "code",
   "execution_count": 7,
   "id": "b264a197",
   "metadata": {},
   "outputs": [
    {
     "data": {
      "text/html": [
       "<table class=\"dataframe\">\n",
       "<caption>A data.frame: 14 × 19</caption>\n",
       "<thead>\n",
       "\t<tr><th scope=col>depth</th><th scope=col>RedPico</th><th scope=col>RedNano</th><th scope=col>RedNanoSmall</th><th scope=col>RedNanoLarge</th><th scope=col>OraPico</th><th scope=col>RedNanoVeryLarge</th><th scope=col>OraNano</th><th scope=col>OraPicoProk</th><th scope=col>HetNano</th><th scope=col>HetProk</th><th scope=col>HetLNA</th><th scope=col>HetHNA</th><th scope=col>HetProkMedium</th><th scope=col>HetProkLarge</th><th scope=col>Virus</th><th scope=col>VirusSmall</th><th scope=col>VirusMedium</th><th scope=col>VirusLarge</th></tr>\n",
       "\t<tr><th scope=col>&lt;dbl[1d]&gt;</th><th scope=col>&lt;dbl&gt;</th><th scope=col>&lt;dbl&gt;</th><th scope=col>&lt;dbl&gt;</th><th scope=col>&lt;dbl&gt;</th><th scope=col>&lt;dbl&gt;</th><th scope=col>&lt;dbl&gt;</th><th scope=col>&lt;dbl&gt;</th><th scope=col>&lt;dbl&gt;</th><th scope=col>&lt;dbl&gt;</th><th scope=col>&lt;dbl&gt;</th><th scope=col>&lt;dbl&gt;</th><th scope=col>&lt;dbl&gt;</th><th scope=col>&lt;dbl&gt;</th><th scope=col>&lt;dbl&gt;</th><th scope=col>&lt;dbl&gt;</th><th scope=col>&lt;dbl&gt;</th><th scope=col>&lt;dbl&gt;</th><th scope=col>&lt;dbl&gt;</th></tr>\n",
       "</thead>\n",
       "<tbody>\n",
       "\t<tr><td>  0.5</td><td> 974</td><td>1313</td><td>766</td><td>351</td><td>196</td><td>25</td><td>10</td><td>3</td><td>38</td><td>185009.14</td><td>45521.02</td><td>135831.81</td><td> 71846.44</td><td>63985.37</td><td>1917733.1</td><td>1438756.9</td><td>396709.3</td><td> 82266.91</td></tr>\n",
       "\t<tr><td>  9.0</td><td>2011</td><td> 950</td><td>818</td><td>115</td><td> 17</td><td> 6</td><td> 4</td><td>0</td><td>63</td><td>185009.14</td><td>45521.02</td><td>135831.81</td><td> 71846.44</td><td>63985.37</td><td>2173491.8</td><td>1669287.0</td><td>414076.8</td><td> 90127.97</td></tr>\n",
       "\t<tr><td> 19.0</td><td>2397</td><td>1019</td><td>897</td><td>112</td><td> 10</td><td> 5</td><td> 5</td><td>0</td><td>75</td><td>144241.32</td><td>38208.41</td><td>102742.23</td><td> 69469.84</td><td>33272.39</td><td>2240403.0</td><td>1748995.0</td><td>402925.0</td><td> 88483.00</td></tr>\n",
       "\t<tr><td> 30.0</td><td>1419</td><td>1106</td><td>929</td><td>154</td><td> 23</td><td>11</td><td> 6</td><td>1</td><td>79</td><td>189396.71</td><td>38574.04</td><td>144241.32</td><td> 88482.63</td><td>55758.68</td><td>4696526.5</td><td>3987202.9</td><td>588665.4</td><td>120658.14</td></tr>\n",
       "\t<tr><td> 40.0</td><td>1133</td><td> 978</td><td>821</td><td>118</td><td> 39</td><td> 9</td><td> 5</td><td>0</td><td>78</td><td>205850.09</td><td>39670.93</td><td>161060.33</td><td>103290.68</td><td>57769.65</td><td>2303473.5</td><td>1762340.0</td><td>457038.4</td><td> 84095.06</td></tr>\n",
       "\t<tr><td> 49.0</td><td> 712</td><td> 696</td><td>544</td><td>137</td><td> 15</td><td>13</td><td> 2</td><td>0</td><td>99</td><td>162522.85</td><td>38025.59</td><td>120109.69</td><td> 82998.17</td><td>37111.52</td><td>2106032.9</td><td>1557586.8</td><td>477148.1</td><td> 71297.99</td></tr>\n",
       "\t<tr><td> 59.0</td><td> 425</td><td> 325</td><td>254</td><td> 67</td><td>  4</td><td> 6</td><td> 2</td><td>1</td><td>35</td><td>168555.76</td><td>41499.09</td><td>122669.10</td><td> 83912.25</td><td>38756.86</td><td>1804387.6</td><td>1257769.7</td><td>460694.7</td><td> 85923.22</td></tr>\n",
       "\t<tr><td> 89.0</td><td> 193</td><td> 122</td><td>106</td><td> 14</td><td>  2</td><td> 0</td><td> 1</td><td>2</td><td>46</td><td>117733.09</td><td>36197.44</td><td> 79707.50</td><td> 50091.41</td><td>29616.09</td><td>1645338.2</td><td>1124314.4</td><td>424131.6</td><td> 96892.14</td></tr>\n",
       "\t<tr><td>119.0</td><td> 100</td><td>  75</td><td> 58</td><td> 14</td><td>  3</td><td> 1</td><td> 0</td><td>2</td><td>41</td><td>112979.89</td><td>36745.89</td><td> 75502.74</td><td> 47531.99</td><td>27970.75</td><td>1687385.7</td><td>1206581.4</td><td>409506.4</td><td> 71297.99</td></tr>\n",
       "\t<tr><td>150.0</td><td> 105</td><td>  54</td><td> 42</td><td> 12</td><td>  0</td><td> 1</td><td> 0</td><td>0</td><td>55</td><td> 99451.55</td><td>32906.76</td><td> 66179.16</td><td> 42595.98</td><td>23583.18</td><td>1696526.5</td><td>1248628.9</td><td>365630.7</td><td> 82266.91</td></tr>\n",
       "\t<tr><td>200.0</td><td>  65</td><td>  56</td><td> 46</td><td>  9</td><td>  1</td><td> 0</td><td> 0</td><td>2</td><td>49</td><td>104387.57</td><td>37294.33</td><td> 64899.45</td><td> 42047.53</td><td>22851.92</td><td>1793967.1</td><td>1255758.7</td><td>434552.1</td><td>103656.31</td></tr>\n",
       "\t<tr><td>501.0</td><td>  37</td><td>  33</td><td> 19</td><td> 11</td><td>  3</td><td> 0</td><td> 0</td><td>2</td><td>32</td><td> 80987.20</td><td>25045.70</td><td> 54661.79</td><td> 35648.99</td><td>19012.80</td><td>1491407.7</td><td>1088482.6</td><td>328884.8</td><td> 74040.22</td></tr>\n",
       "\t<tr><td>750.0</td><td>   9</td><td>   5</td><td>  3</td><td>  2</td><td>  0</td><td> 0</td><td> 0</td><td>0</td><td>25</td><td> 57404.02</td><td>19012.80</td><td> 38391.22</td><td> 24497.26</td><td>13893.97</td><td> 993784.3</td><td> 729250.5</td><td>213162.7</td><td> 51371.12</td></tr>\n",
       "\t<tr><td>901.0</td><td>   4</td><td>   1</td><td>  1</td><td>  0</td><td>  0</td><td> 0</td><td> 0</td><td>1</td><td>22</td><td> 53930.53</td><td>17001.83</td><td> 36745.89</td><td> 21937.84</td><td>14808.04</td><td> 850457.0</td><td> 620475.3</td><td>183546.6</td><td> 46435.10</td></tr>\n",
       "</tbody>\n",
       "</table>\n"
      ],
      "text/latex": [
       "A data.frame: 14 × 19\n",
       "\\begin{tabular}{lllllllllllllllllll}\n",
       " depth & RedPico & RedNano & RedNanoSmall & RedNanoLarge & OraPico & RedNanoVeryLarge & OraNano & OraPicoProk & HetNano & HetProk & HetLNA & HetHNA & HetProkMedium & HetProkLarge & Virus & VirusSmall & VirusMedium & VirusLarge\\\\\n",
       " <dbl{[}1d{]}> & <dbl> & <dbl> & <dbl> & <dbl> & <dbl> & <dbl> & <dbl> & <dbl> & <dbl> & <dbl> & <dbl> & <dbl> & <dbl> & <dbl> & <dbl> & <dbl> & <dbl> & <dbl>\\\\\n",
       "\\hline\n",
       "\t   0.5 &  974 & 1313 & 766 & 351 & 196 & 25 & 10 & 3 & 38 & 185009.14 & 45521.02 & 135831.81 &  71846.44 & 63985.37 & 1917733.1 & 1438756.9 & 396709.3 &  82266.91\\\\\n",
       "\t   9.0 & 2011 &  950 & 818 & 115 &  17 &  6 &  4 & 0 & 63 & 185009.14 & 45521.02 & 135831.81 &  71846.44 & 63985.37 & 2173491.8 & 1669287.0 & 414076.8 &  90127.97\\\\\n",
       "\t  19.0 & 2397 & 1019 & 897 & 112 &  10 &  5 &  5 & 0 & 75 & 144241.32 & 38208.41 & 102742.23 &  69469.84 & 33272.39 & 2240403.0 & 1748995.0 & 402925.0 &  88483.00\\\\\n",
       "\t  30.0 & 1419 & 1106 & 929 & 154 &  23 & 11 &  6 & 1 & 79 & 189396.71 & 38574.04 & 144241.32 &  88482.63 & 55758.68 & 4696526.5 & 3987202.9 & 588665.4 & 120658.14\\\\\n",
       "\t  40.0 & 1133 &  978 & 821 & 118 &  39 &  9 &  5 & 0 & 78 & 205850.09 & 39670.93 & 161060.33 & 103290.68 & 57769.65 & 2303473.5 & 1762340.0 & 457038.4 &  84095.06\\\\\n",
       "\t  49.0 &  712 &  696 & 544 & 137 &  15 & 13 &  2 & 0 & 99 & 162522.85 & 38025.59 & 120109.69 &  82998.17 & 37111.52 & 2106032.9 & 1557586.8 & 477148.1 &  71297.99\\\\\n",
       "\t  59.0 &  425 &  325 & 254 &  67 &   4 &  6 &  2 & 1 & 35 & 168555.76 & 41499.09 & 122669.10 &  83912.25 & 38756.86 & 1804387.6 & 1257769.7 & 460694.7 &  85923.22\\\\\n",
       "\t  89.0 &  193 &  122 & 106 &  14 &   2 &  0 &  1 & 2 & 46 & 117733.09 & 36197.44 &  79707.50 &  50091.41 & 29616.09 & 1645338.2 & 1124314.4 & 424131.6 &  96892.14\\\\\n",
       "\t 119.0 &  100 &   75 &  58 &  14 &   3 &  1 &  0 & 2 & 41 & 112979.89 & 36745.89 &  75502.74 &  47531.99 & 27970.75 & 1687385.7 & 1206581.4 & 409506.4 &  71297.99\\\\\n",
       "\t 150.0 &  105 &   54 &  42 &  12 &   0 &  1 &  0 & 0 & 55 &  99451.55 & 32906.76 &  66179.16 &  42595.98 & 23583.18 & 1696526.5 & 1248628.9 & 365630.7 &  82266.91\\\\\n",
       "\t 200.0 &   65 &   56 &  46 &   9 &   1 &  0 &  0 & 2 & 49 & 104387.57 & 37294.33 &  64899.45 &  42047.53 & 22851.92 & 1793967.1 & 1255758.7 & 434552.1 & 103656.31\\\\\n",
       "\t 501.0 &   37 &   33 &  19 &  11 &   3 &  0 &  0 & 2 & 32 &  80987.20 & 25045.70 &  54661.79 &  35648.99 & 19012.80 & 1491407.7 & 1088482.6 & 328884.8 &  74040.22\\\\\n",
       "\t 750.0 &    9 &    5 &   3 &   2 &   0 &  0 &  0 & 0 & 25 &  57404.02 & 19012.80 &  38391.22 &  24497.26 & 13893.97 &  993784.3 &  729250.5 & 213162.7 &  51371.12\\\\\n",
       "\t 901.0 &    4 &    1 &   1 &   0 &   0 &  0 &  0 & 1 & 22 &  53930.53 & 17001.83 &  36745.89 &  21937.84 & 14808.04 &  850457.0 &  620475.3 & 183546.6 &  46435.10\\\\\n",
       "\\end{tabular}\n"
      ],
      "text/markdown": [
       "\n",
       "A data.frame: 14 × 19\n",
       "\n",
       "| depth &lt;dbl[1d]&gt; | RedPico &lt;dbl&gt; | RedNano &lt;dbl&gt; | RedNanoSmall &lt;dbl&gt; | RedNanoLarge &lt;dbl&gt; | OraPico &lt;dbl&gt; | RedNanoVeryLarge &lt;dbl&gt; | OraNano &lt;dbl&gt; | OraPicoProk &lt;dbl&gt; | HetNano &lt;dbl&gt; | HetProk &lt;dbl&gt; | HetLNA &lt;dbl&gt; | HetHNA &lt;dbl&gt; | HetProkMedium &lt;dbl&gt; | HetProkLarge &lt;dbl&gt; | Virus &lt;dbl&gt; | VirusSmall &lt;dbl&gt; | VirusMedium &lt;dbl&gt; | VirusLarge &lt;dbl&gt; |\n",
       "|---|---|---|---|---|---|---|---|---|---|---|---|---|---|---|---|---|---|---|\n",
       "|   0.5 |  974 | 1313 | 766 | 351 | 196 | 25 | 10 | 3 | 38 | 185009.14 | 45521.02 | 135831.81 |  71846.44 | 63985.37 | 1917733.1 | 1438756.9 | 396709.3 |  82266.91 |\n",
       "|   9.0 | 2011 |  950 | 818 | 115 |  17 |  6 |  4 | 0 | 63 | 185009.14 | 45521.02 | 135831.81 |  71846.44 | 63985.37 | 2173491.8 | 1669287.0 | 414076.8 |  90127.97 |\n",
       "|  19.0 | 2397 | 1019 | 897 | 112 |  10 |  5 |  5 | 0 | 75 | 144241.32 | 38208.41 | 102742.23 |  69469.84 | 33272.39 | 2240403.0 | 1748995.0 | 402925.0 |  88483.00 |\n",
       "|  30.0 | 1419 | 1106 | 929 | 154 |  23 | 11 |  6 | 1 | 79 | 189396.71 | 38574.04 | 144241.32 |  88482.63 | 55758.68 | 4696526.5 | 3987202.9 | 588665.4 | 120658.14 |\n",
       "|  40.0 | 1133 |  978 | 821 | 118 |  39 |  9 |  5 | 0 | 78 | 205850.09 | 39670.93 | 161060.33 | 103290.68 | 57769.65 | 2303473.5 | 1762340.0 | 457038.4 |  84095.06 |\n",
       "|  49.0 |  712 |  696 | 544 | 137 |  15 | 13 |  2 | 0 | 99 | 162522.85 | 38025.59 | 120109.69 |  82998.17 | 37111.52 | 2106032.9 | 1557586.8 | 477148.1 |  71297.99 |\n",
       "|  59.0 |  425 |  325 | 254 |  67 |   4 |  6 |  2 | 1 | 35 | 168555.76 | 41499.09 | 122669.10 |  83912.25 | 38756.86 | 1804387.6 | 1257769.7 | 460694.7 |  85923.22 |\n",
       "|  89.0 |  193 |  122 | 106 |  14 |   2 |  0 |  1 | 2 | 46 | 117733.09 | 36197.44 |  79707.50 |  50091.41 | 29616.09 | 1645338.2 | 1124314.4 | 424131.6 |  96892.14 |\n",
       "| 119.0 |  100 |   75 |  58 |  14 |   3 |  1 |  0 | 2 | 41 | 112979.89 | 36745.89 |  75502.74 |  47531.99 | 27970.75 | 1687385.7 | 1206581.4 | 409506.4 |  71297.99 |\n",
       "| 150.0 |  105 |   54 |  42 |  12 |   0 |  1 |  0 | 0 | 55 |  99451.55 | 32906.76 |  66179.16 |  42595.98 | 23583.18 | 1696526.5 | 1248628.9 | 365630.7 |  82266.91 |\n",
       "| 200.0 |   65 |   56 |  46 |   9 |   1 |  0 |  0 | 2 | 49 | 104387.57 | 37294.33 |  64899.45 |  42047.53 | 22851.92 | 1793967.1 | 1255758.7 | 434552.1 | 103656.31 |\n",
       "| 501.0 |   37 |   33 |  19 |  11 |   3 |  0 |  0 | 2 | 32 |  80987.20 | 25045.70 |  54661.79 |  35648.99 | 19012.80 | 1491407.7 | 1088482.6 | 328884.8 |  74040.22 |\n",
       "| 750.0 |    9 |    5 |   3 |   2 |   0 |  0 |  0 | 0 | 25 |  57404.02 | 19012.80 |  38391.22 |  24497.26 | 13893.97 |  993784.3 |  729250.5 | 213162.7 |  51371.12 |\n",
       "| 901.0 |    4 |    1 |   1 |   0 |   0 |  0 |  0 | 1 | 22 |  53930.53 | 17001.83 |  36745.89 |  21937.84 | 14808.04 |  850457.0 |  620475.3 | 183546.6 |  46435.10 |\n",
       "\n"
      ],
      "text/plain": [
       "   depth RedPico RedNano RedNanoSmall RedNanoLarge OraPico RedNanoVeryLarge\n",
       "1    0.5  974    1313    766          351          196     25              \n",
       "2    9.0 2011     950    818          115           17      6              \n",
       "3   19.0 2397    1019    897          112           10      5              \n",
       "4   30.0 1419    1106    929          154           23     11              \n",
       "5   40.0 1133     978    821          118           39      9              \n",
       "6   49.0  712     696    544          137           15     13              \n",
       "7   59.0  425     325    254           67            4      6              \n",
       "8   89.0  193     122    106           14            2      0              \n",
       "9  119.0  100      75     58           14            3      1              \n",
       "10 150.0  105      54     42           12            0      1              \n",
       "11 200.0   65      56     46            9            1      0              \n",
       "12 501.0   37      33     19           11            3      0              \n",
       "13 750.0    9       5      3            2            0      0              \n",
       "14 901.0    4       1      1            0            0      0              \n",
       "   OraNano OraPicoProk HetNano HetProk   HetLNA   HetHNA    HetProkMedium\n",
       "1  10      3           38      185009.14 45521.02 135831.81  71846.44    \n",
       "2   4      0           63      185009.14 45521.02 135831.81  71846.44    \n",
       "3   5      0           75      144241.32 38208.41 102742.23  69469.84    \n",
       "4   6      1           79      189396.71 38574.04 144241.32  88482.63    \n",
       "5   5      0           78      205850.09 39670.93 161060.33 103290.68    \n",
       "6   2      0           99      162522.85 38025.59 120109.69  82998.17    \n",
       "7   2      1           35      168555.76 41499.09 122669.10  83912.25    \n",
       "8   1      2           46      117733.09 36197.44  79707.50  50091.41    \n",
       "9   0      2           41      112979.89 36745.89  75502.74  47531.99    \n",
       "10  0      0           55       99451.55 32906.76  66179.16  42595.98    \n",
       "11  0      2           49      104387.57 37294.33  64899.45  42047.53    \n",
       "12  0      2           32       80987.20 25045.70  54661.79  35648.99    \n",
       "13  0      0           25       57404.02 19012.80  38391.22  24497.26    \n",
       "14  0      1           22       53930.53 17001.83  36745.89  21937.84    \n",
       "   HetProkLarge Virus     VirusSmall VirusMedium VirusLarge\n",
       "1  63985.37     1917733.1 1438756.9  396709.3     82266.91 \n",
       "2  63985.37     2173491.8 1669287.0  414076.8     90127.97 \n",
       "3  33272.39     2240403.0 1748995.0  402925.0     88483.00 \n",
       "4  55758.68     4696526.5 3987202.9  588665.4    120658.14 \n",
       "5  57769.65     2303473.5 1762340.0  457038.4     84095.06 \n",
       "6  37111.52     2106032.9 1557586.8  477148.1     71297.99 \n",
       "7  38756.86     1804387.6 1257769.7  460694.7     85923.22 \n",
       "8  29616.09     1645338.2 1124314.4  424131.6     96892.14 \n",
       "9  27970.75     1687385.7 1206581.4  409506.4     71297.99 \n",
       "10 23583.18     1696526.5 1248628.9  365630.7     82266.91 \n",
       "11 22851.92     1793967.1 1255758.7  434552.1    103656.31 \n",
       "12 19012.80     1491407.7 1088482.6  328884.8     74040.22 \n",
       "13 13893.97      993784.3  729250.5  213162.7     51371.12 \n",
       "14 14808.04      850457.0  620475.3  183546.6     46435.10 "
      ]
     },
     "metadata": {},
     "output_type": "display_data"
    }
   ],
   "source": [
    "# Convert the matrix to a dataframe\n",
    "abundance_df <- as.data.frame(abundance)\n",
    "\n",
    "# Assign the taxon names as the column headers\n",
    "colnames(abundance_df) <- taxon_names\n",
    "\n",
    "# Adding a depth column\n",
    "abundance_df$depth <- depth\n",
    "\n",
    "# Move the depth column to the front\n",
    "abundance_df <- abundance_df[, c(ncol(abundance_df), 1:(ncol(abundance_df)-1))]\n",
    "\n",
    "abundance_df"
   ]
  },
  {
   "cell_type": "markdown",
   "id": "6036664a",
   "metadata": {},
   "source": [
    "To export the dataframe to a CSV or XLSX file"
   ]
  },
  {
   "cell_type": "code",
   "execution_count": 8,
   "id": "453f423b",
   "metadata": {},
   "outputs": [],
   "source": [
    "# Write to CSV\n",
    "write.csv(abundance_df, \"../data/flow_cytometry_one_cast.csv\", row.names = FALSE)\n",
    "\n",
    "# Write to XLSX using writexl\n",
    "write_xlsx(abundance_df, \"../data/flow_cytometry_one_cast.xlsx\")"
   ]
  },
  {
   "cell_type": "markdown",
   "id": "9bad7a74",
   "metadata": {},
   "source": [
    "### Looping through multiple files\n",
    "\n",
    "What if we want to loop through and access data from all the casts?\n",
    "\n",
    "We can think of this as the human interface:\n",
    "https://opendap1.nodc.no/opendap/hyrax/projects/nansen_legacy/cytometry/contents.html\n",
    "\n",
    "And this as the machine interface:\n",
    "https://opendap1.nodc.no/opendap/hyrax/projects/nansen_legacy/cytometry/catalog.xml\n",
    "\n",
    "If you have never looked at an XML file like this before, don't worry. What we want to do is access the URL paths of each file and dump them to a list that we can loop through. We need to install another package first."
   ]
  },
  {
   "cell_type": "code",
   "execution_count": 9,
   "id": "d7c6ffa5",
   "metadata": {},
   "outputs": [],
   "source": [
    "if (!requireNamespace(\"xml2\", quietly = TRUE)) {\n",
    "  install.packages(\"xml2\")\n",
    "}\n",
    "library(xml2)"
   ]
  },
  {
   "cell_type": "markdown",
   "id": "74d2ee86",
   "metadata": {},
   "source": [
    "Now let's make a list of the OPeNDAP URLs for each file."
   ]
  },
  {
   "cell_type": "code",
   "execution_count": 10,
   "id": "e2a2c000",
   "metadata": {},
   "outputs": [
    {
     "name": "stdout",
     "output_type": "stream",
     "text": [
      "  [1] \"https://opendap1.nodc.no/opendap//projects/nansen_legacy/cytometry/Flow_cytometry_measurements_during_Nansen_Legacy_cruise_2018707_station_P1_in_the_Northern_Barents_Sea.nc\"                                   \n",
      "  [2] \"https://opendap1.nodc.no/opendap//projects/nansen_legacy/cytometry/Flow_cytometry_measurements_during_Nansen_Legacy_cruise_2018707_station_P2_in_the_Northern_Barents_Sea.nc\"                                   \n",
      "  [3] \"https://opendap1.nodc.no/opendap//projects/nansen_legacy/cytometry/Flow_cytometry_measurements_during_Nansen_Legacy_cruise_2018707_station_P3_in_the_Northern_Barents_Sea.nc\"                                   \n",
      "  [4] \"https://opendap1.nodc.no/opendap//projects/nansen_legacy/cytometry/Flow_cytometry_measurements_during_Nansen_Legacy_cruise_2018707_station_P4_in_the_Northern_Barents_Sea.nc\"                                   \n",
      "  [5] \"https://opendap1.nodc.no/opendap//projects/nansen_legacy/cytometry/Flow_cytometry_measurements_during_Nansen_Legacy_cruise_2018707_station_P5_in_the_Northern_Barents_Sea.nc\"                                   \n",
      "  [6] \"https://opendap1.nodc.no/opendap//projects/nansen_legacy/cytometry/Flow_cytometry_measurements_during_Nansen_Legacy_cruise_2018707_station_PICE_in_the_Northern_Barents_Sea.nc\"                                 \n",
      "  [7] \"https://opendap1.nodc.no/opendap//projects/nansen_legacy/cytometry/Flow_cytometry_measurements_during_Nansen_Legacy_cruise_2018707_station_SICE3_in_the_Northern_Barents_Sea.nc\"                                \n",
      "  [8] \"https://opendap1.nodc.no/opendap//projects/nansen_legacy/cytometry/Flow_cytometry_measurements_during_Nansen_Legacy_cruise_2019706_station_NLEG05_in_the_Northern_Barents_Sea.nc\"                               \n",
      "  [9] \"https://opendap1.nodc.no/opendap//projects/nansen_legacy/cytometry/Flow_cytometry_measurements_during_Nansen_Legacy_cruise_2019706_station_NLEG06_in_the_Northern_Barents_Sea.nc\"                               \n",
      " [10] \"https://opendap1.nodc.no/opendap//projects/nansen_legacy/cytometry/Flow_cytometry_measurements_during_Nansen_Legacy_cruise_2019706_station_NLEG08_in_the_Northern_Barents_Sea.nc\"                               \n",
      " [11] \"https://opendap1.nodc.no/opendap//projects/nansen_legacy/cytometry/Flow_cytometry_measurements_during_Nansen_Legacy_cruise_2019706_station_NLEG09_in_the_Northern_Barents_Sea.nc\"                               \n",
      " [12] \"https://opendap1.nodc.no/opendap//projects/nansen_legacy/cytometry/Flow_cytometry_measurements_during_Nansen_Legacy_cruise_2019706_station_NLEG10_in_the_Northern_Barents_Sea.nc\"                               \n",
      " [13] \"https://opendap1.nodc.no/opendap//projects/nansen_legacy/cytometry/Flow_cytometry_measurements_during_Nansen_Legacy_cruise_2019706_station_NLEG12_in_the_Northern_Barents_Sea.nc\"                               \n",
      " [14] \"https://opendap1.nodc.no/opendap//projects/nansen_legacy/cytometry/Flow_cytometry_measurements_during_Nansen_Legacy_cruise_2019706_station_NLEG14_in_the_Northern_Barents_Sea.nc\"                               \n",
      " [15] \"https://opendap1.nodc.no/opendap//projects/nansen_legacy/cytometry/Flow_cytometry_measurements_during_Nansen_Legacy_cruise_2019706_station_NLEG15_in_the_Northern_Barents_Sea.nc\"                               \n",
      " [16] \"https://opendap1.nodc.no/opendap//projects/nansen_legacy/cytometry/Flow_cytometry_measurements_during_Nansen_Legacy_cruise_2019706_station_NLEG19_in_the_Northern_Barents_Sea.nc\"                               \n",
      " [17] \"https://opendap1.nodc.no/opendap//projects/nansen_legacy/cytometry/Flow_cytometry_measurements_during_Nansen_Legacy_cruise_2019706_station_NLEG23_in_the_Northern_Barents_Sea.nc\"                               \n",
      " [18] \"https://opendap1.nodc.no/opendap//projects/nansen_legacy/cytometry/Flow_cytometry_measurements_during_Nansen_Legacy_cruise_2019706_station_NLEG24_in_the_Northern_Barents_Sea.nc\"                               \n",
      " [19] \"https://opendap1.nodc.no/opendap//projects/nansen_legacy/cytometry/Flow_cytometry_measurements_during_Nansen_Legacy_cruise_2019706_station_P1_in_the_Northern_Barents_Sea.nc\"                                   \n",
      " [20] \"https://opendap1.nodc.no/opendap//projects/nansen_legacy/cytometry/Flow_cytometry_measurements_during_Nansen_Legacy_cruise_2019706_station_P2_in_the_Northern_Barents_Sea.nc\"                                   \n",
      " [21] \"https://opendap1.nodc.no/opendap//projects/nansen_legacy/cytometry/Flow_cytometry_measurements_during_Nansen_Legacy_cruise_2019706_station_P3_in_the_Northern_Barents_Sea.nc\"                                   \n",
      " [22] \"https://opendap1.nodc.no/opendap//projects/nansen_legacy/cytometry/Flow_cytometry_measurements_during_Nansen_Legacy_cruise_2019706_station_P4_in_the_Northern_Barents_Sea.nc\"                                   \n",
      " [23] \"https://opendap1.nodc.no/opendap//projects/nansen_legacy/cytometry/Flow_cytometry_measurements_during_Nansen_Legacy_cruise_2019706_station_P5_in_the_Northern_Barents_Sea.nc\"                                   \n",
      " [24] \"https://opendap1.nodc.no/opendap//projects/nansen_legacy/cytometry/Flow_cytometry_measurements_during_Nansen_Legacy_cruise_2019706_station_P6_in_the_Northern_Barents_Sea.nc\"                                   \n",
      " [25] \"https://opendap1.nodc.no/opendap//projects/nansen_legacy/cytometry/Flow_cytometry_measurements_during_Nansen_Legacy_cruise_2019706_station_P7_in_the_Northern_Barents_Sea.nc\"                                   \n",
      " [26] \"https://opendap1.nodc.no/opendap//projects/nansen_legacy/cytometry/Flow_cytometry_measurements_during_Nansen_Legacy_cruise_2019706_station_SICE4_in_the_Northern_Barents_Sea.nc\"                                \n",
      " [27] \"https://opendap1.nodc.no/opendap//projects/nansen_legacy/cytometry/Flow_cytometry_measurements_during_Nansen_Legacy_cruise_2019711_station_P1_in_the_Northern_Barents_Sea.nc\"                                   \n",
      " [28] \"https://opendap1.nodc.no/opendap//projects/nansen_legacy/cytometry/Flow_cytometry_measurements_during_Nansen_Legacy_cruise_2019711_station_P2_in_the_Northern_Barents_Sea.nc\"                                   \n",
      " [29] \"https://opendap1.nodc.no/opendap//projects/nansen_legacy/cytometry/Flow_cytometry_measurements_during_Nansen_Legacy_cruise_2019711_station_P3_in_the_Northern_Barents_Sea.nc\"                                   \n",
      " [30] \"https://opendap1.nodc.no/opendap//projects/nansen_legacy/cytometry/Flow_cytometry_measurements_during_Nansen_Legacy_cruise_2019711_station_P4_in_the_Northern_Barents_Sea.nc\"                                   \n",
      " [31] \"https://opendap1.nodc.no/opendap//projects/nansen_legacy/cytometry/Flow_cytometry_measurements_during_Nansen_Legacy_cruise_2019711_station_P5_in_the_Northern_Barents_Sea.nc\"                                   \n",
      " [32] \"https://opendap1.nodc.no/opendap//projects/nansen_legacy/cytometry/Flow_cytometry_measurements_during_Nansen_Legacy_cruise_2019711_station_P6_in_the_Northern_Barents_Sea.nc\"                                   \n",
      " [33] \"https://opendap1.nodc.no/opendap//projects/nansen_legacy/cytometry/Flow_cytometry_measurements_during_Nansen_Legacy_cruise_2019711_station_P7_in_the_Northern_Barents_Sea.nc\"                                   \n",
      " [34] \"https://opendap1.nodc.no/opendap//projects/nansen_legacy/cytometry/Flow_cytometry_measurements_during_Nansen_Legacy_cruise_2021703_station_NLEG02_in_the_Northern_Barents_Sea.nc\"                               \n",
      " [35] \"https://opendap1.nodc.no/opendap//projects/nansen_legacy/cytometry/Flow_cytometry_measurements_during_Nansen_Legacy_cruise_2021703_station_NLEG03_in_the_Northern_Barents_Sea.nc\"                               \n",
      " [36] \"https://opendap1.nodc.no/opendap//projects/nansen_legacy/cytometry/Flow_cytometry_measurements_during_Nansen_Legacy_cruise_2021703_station_NLEG05_in_the_Northern_Barents_Sea.nc\"                               \n",
      " [37] \"https://opendap1.nodc.no/opendap//projects/nansen_legacy/cytometry/Flow_cytometry_measurements_during_Nansen_Legacy_cruise_2021703_station_NLEG06_in_the_Northern_Barents_Sea.nc\"                               \n",
      " [38] \"https://opendap1.nodc.no/opendap//projects/nansen_legacy/cytometry/Flow_cytometry_measurements_during_Nansen_Legacy_cruise_2021703_station_NLEG08_in_the_Northern_Barents_Sea.nc\"                               \n",
      " [39] \"https://opendap1.nodc.no/opendap//projects/nansen_legacy/cytometry/Flow_cytometry_measurements_during_Nansen_Legacy_cruise_2021703_station_NLEG09_in_the_Northern_Barents_Sea.nc\"                               \n",
      " [40] \"https://opendap1.nodc.no/opendap//projects/nansen_legacy/cytometry/Flow_cytometry_measurements_during_Nansen_Legacy_cruise_2021703_station_NLEG10_in_the_Northern_Barents_Sea.nc\"                               \n",
      " [41] \"https://opendap1.nodc.no/opendap//projects/nansen_legacy/cytometry/Flow_cytometry_measurements_during_Nansen_Legacy_cruise_2021703_station_NLEG12_in_the_Northern_Barents_Sea.nc\"                               \n",
      " [42] \"https://opendap1.nodc.no/opendap//projects/nansen_legacy/cytometry/Flow_cytometry_measurements_during_Nansen_Legacy_cruise_2021703_station_NLEG14_in_the_Northern_Barents_Sea.nc\"                               \n",
      " [43] \"https://opendap1.nodc.no/opendap//projects/nansen_legacy/cytometry/Flow_cytometry_measurements_during_Nansen_Legacy_cruise_2021703_station_NLEG15_in_the_Northern_Barents_Sea.nc\"                               \n",
      " [44] \"https://opendap1.nodc.no/opendap//projects/nansen_legacy/cytometry/Flow_cytometry_measurements_during_Nansen_Legacy_cruise_2021703_station_NLEG19_in_the_Northern_Barents_Sea.nc\"                               \n",
      " [45] \"https://opendap1.nodc.no/opendap//projects/nansen_legacy/cytometry/Flow_cytometry_measurements_during_Nansen_Legacy_cruise_2021703_station_NLEG23_in_the_Northern_Barents_Sea.nc\"                               \n",
      " [46] \"https://opendap1.nodc.no/opendap//projects/nansen_legacy/cytometry/Flow_cytometry_measurements_during_Nansen_Legacy_cruise_2021703_station_P1_in_the_Northern_Barents_Sea.nc\"                                   \n",
      " [47] \"https://opendap1.nodc.no/opendap//projects/nansen_legacy/cytometry/Flow_cytometry_measurements_during_Nansen_Legacy_cruise_2021703_station_P2_in_the_Northern_Barents_Sea.nc\"                                   \n",
      " [48] \"https://opendap1.nodc.no/opendap//projects/nansen_legacy/cytometry/Flow_cytometry_measurements_during_Nansen_Legacy_cruise_2021703_station_P3_in_the_Northern_Barents_Sea.nc\"                                   \n",
      " [49] \"https://opendap1.nodc.no/opendap//projects/nansen_legacy/cytometry/Flow_cytometry_measurements_during_Nansen_Legacy_cruise_2021703_station_P4_in_the_Northern_Barents_Sea.nc\"                                   \n",
      " [50] \"https://opendap1.nodc.no/opendap//projects/nansen_legacy/cytometry/Flow_cytometry_measurements_during_Nansen_Legacy_cruise_2021703_station_P5_in_the_Northern_Barents_Sea.nc\"                                   \n",
      " [51] \"https://opendap1.nodc.no/opendap//projects/nansen_legacy/cytometry/Flow_cytometry_measurements_during_Nansen_Legacy_cruise_2021703_station_P6_in_the_Northern_Barents_Sea.nc\"                                   \n",
      " [52] \"https://opendap1.nodc.no/opendap//projects/nansen_legacy/cytometry/Flow_cytometry_measurements_during_Nansen_Legacy_cruise_2021703_station_P7_in_the_Northern_Barents_Sea.nc\"                                   \n",
      " [53] \"https://opendap1.nodc.no/opendap//projects/nansen_legacy/cytometry/Flow_cytometry_measurements_during_Nansen_Legacy_cruise_2021704_station_NLEG02_in_the_Northern_Barents_Sea.nc\"                               \n",
      " [54] \"https://opendap1.nodc.no/opendap//projects/nansen_legacy/cytometry/Flow_cytometry_measurements_during_Nansen_Legacy_cruise_2021704_station_NLEG03_in_the_Northern_Barents_Sea.nc\"                               \n",
      " [55] \"https://opendap1.nodc.no/opendap//projects/nansen_legacy/cytometry/Flow_cytometry_measurements_during_Nansen_Legacy_cruise_2021704_station_NLEG05_in_the_Northern_Barents_Sea.nc\"                               \n",
      " [56] \"https://opendap1.nodc.no/opendap//projects/nansen_legacy/cytometry/Flow_cytometry_measurements_during_Nansen_Legacy_cruise_2021704_station_NLEG06_in_the_Northern_Barents_Sea.nc\"                               \n",
      " [57] \"https://opendap1.nodc.no/opendap//projects/nansen_legacy/cytometry/Flow_cytometry_measurements_during_Nansen_Legacy_cruise_2021704_station_NLEG08_in_the_Northern_Barents_Sea.nc\"                               \n",
      " [58] \"https://opendap1.nodc.no/opendap//projects/nansen_legacy/cytometry/Flow_cytometry_measurements_during_Nansen_Legacy_cruise_2021704_station_NLEG09_in_the_Northern_Barents_Sea.nc\"                               \n",
      " [59] \"https://opendap1.nodc.no/opendap//projects/nansen_legacy/cytometry/Flow_cytometry_measurements_during_Nansen_Legacy_cruise_2021704_station_NLEG10_in_the_Northern_Barents_Sea.nc\"                               \n",
      " [60] \"https://opendap1.nodc.no/opendap//projects/nansen_legacy/cytometry/Flow_cytometry_measurements_during_Nansen_Legacy_cruise_2021704_station_NLEG12_in_the_Northern_Barents_Sea.nc\"                               \n",
      " [61] \"https://opendap1.nodc.no/opendap//projects/nansen_legacy/cytometry/Flow_cytometry_measurements_during_Nansen_Legacy_cruise_2021704_station_NLEG14_in_the_Northern_Barents_Sea.nc\"                               \n",
      " [62] \"https://opendap1.nodc.no/opendap//projects/nansen_legacy/cytometry/Flow_cytometry_measurements_during_Nansen_Legacy_cruise_2021704_station_NLEG15_in_the_Northern_Barents_Sea.nc\"                               \n",
      " [63] \"https://opendap1.nodc.no/opendap//projects/nansen_legacy/cytometry/Flow_cytometry_measurements_during_Nansen_Legacy_cruise_2021704_station_NLEG16_in_the_Northern_Barents_Sea.nc\"                               \n",
      " [64] \"https://opendap1.nodc.no/opendap//projects/nansen_legacy/cytometry/Flow_cytometry_measurements_during_Nansen_Legacy_cruise_2021704_station_NLEG17_in_the_Northern_Barents_Sea.nc\"                               \n",
      " [65] \"https://opendap1.nodc.no/opendap//projects/nansen_legacy/cytometry/Flow_cytometry_measurements_during_Nansen_Legacy_cruise_2021704_station_NLEG18_in_the_Northern_Barents_Sea.nc\"                               \n",
      " [66] \"https://opendap1.nodc.no/opendap//projects/nansen_legacy/cytometry/Flow_cytometry_measurements_during_Nansen_Legacy_cruise_2021704_station_NLEG19_in_the_Northern_Barents_Sea.nc\"                               \n",
      " [67] \"https://opendap1.nodc.no/opendap//projects/nansen_legacy/cytometry/Flow_cytometry_measurements_during_Nansen_Legacy_cruise_2021704_station_NLEG20_in_the_Northern_Barents_Sea.nc\"                               \n",
      " [68] \"https://opendap1.nodc.no/opendap//projects/nansen_legacy/cytometry/Flow_cytometry_measurements_during_Nansen_Legacy_cruise_2021704_station_NLEG22_in_the_Northern_Barents_Sea.nc\"                               \n",
      " [69] \"https://opendap1.nodc.no/opendap//projects/nansen_legacy/cytometry/Flow_cytometry_measurements_during_Nansen_Legacy_cruise_2021704_station_NLEG23_in_the_Northern_Barents_Sea.nc\"                               \n",
      " [70] \"https://opendap1.nodc.no/opendap//projects/nansen_legacy/cytometry/Flow_cytometry_measurements_during_Nansen_Legacy_cruise_2021704_station_NLEG24_in_the_Northern_Barents_Sea.nc\"                               \n",
      " [71] \"https://opendap1.nodc.no/opendap//projects/nansen_legacy/cytometry/Flow_cytometry_measurements_during_Nansen_Legacy_cruise_2021704_station_P1_in_the_Northern_Barents_Sea.nc\"                                   \n",
      " [72] \"https://opendap1.nodc.no/opendap//projects/nansen_legacy/cytometry/Flow_cytometry_measurements_during_Nansen_Legacy_cruise_2021704_station_P2_in_the_Northern_Barents_Sea.nc\"                                   \n",
      " [73] \"https://opendap1.nodc.no/opendap//projects/nansen_legacy/cytometry/Flow_cytometry_measurements_during_Nansen_Legacy_cruise_2021704_station_P3_in_the_Northern_Barents_Sea.nc\"                                   \n",
      " [74] \"https://opendap1.nodc.no/opendap//projects/nansen_legacy/cytometry/Flow_cytometry_measurements_during_Nansen_Legacy_cruise_2021704_station_P4_in_the_Northern_Barents_Sea.nc\"                                   \n",
      " [75] \"https://opendap1.nodc.no/opendap//projects/nansen_legacy/cytometry/Flow_cytometry_measurements_during_Nansen_Legacy_cruise_2021704_station_P5_in_the_Northern_Barents_Sea.nc\"                                   \n",
      " [76] \"https://opendap1.nodc.no/opendap//projects/nansen_legacy/cytometry/Flow_cytometry_measurements_during_Nansen_Legacy_cruise_2021704_station_P6_in_the_Northern_Barents_Sea.nc\"                                   \n",
      " [77] \"https://opendap1.nodc.no/opendap//projects/nansen_legacy/cytometry/Flow_cytometry_measurements_during_Nansen_Legacy_cruise_2021704_station_P7_in_the_Northern_Barents_Sea.nc\"                                   \n",
      " [78] \"https://opendap1.nodc.no/opendap//projects/nansen_legacy/cytometry/Flow_cytometry_measurements_during_Nansen_Legacy_cruise_2021704_station_P7_second_sampling_in_the_Northern_Barents_Sea.nc\"                   \n",
      " [79] \"https://opendap1.nodc.no/opendap//projects/nansen_legacy/cytometry/Flow_cytometry_measurements_during_Nansen_Legacy_cruise_2021708_station_NLEG02_in_the_Northern_Barents_Sea.nc\"                               \n",
      " [80] \"https://opendap1.nodc.no/opendap//projects/nansen_legacy/cytometry/Flow_cytometry_measurements_during_Nansen_Legacy_cruise_2021708_station_NLEG03_in_the_Northern_Barents_Sea.nc\"                               \n",
      " [81] \"https://opendap1.nodc.no/opendap//projects/nansen_legacy/cytometry/Flow_cytometry_measurements_during_Nansen_Legacy_cruise_2021708_station_NLEG05_in_the_Northern_Barents_Sea.nc\"                               \n",
      " [82] \"https://opendap1.nodc.no/opendap//projects/nansen_legacy/cytometry/Flow_cytometry_measurements_during_Nansen_Legacy_cruise_2021708_station_NLEG06_in_the_Northern_Barents_Sea.nc\"                               \n",
      " [83] \"https://opendap1.nodc.no/opendap//projects/nansen_legacy/cytometry/Flow_cytometry_measurements_during_Nansen_Legacy_cruise_2021708_station_NLEG08_in_the_Northern_Barents_Sea.nc\"                               \n",
      " [84] \"https://opendap1.nodc.no/opendap//projects/nansen_legacy/cytometry/Flow_cytometry_measurements_during_Nansen_Legacy_cruise_2021708_station_NLEG09_in_the_Northern_Barents_Sea.nc\"                               \n",
      " [85] \"https://opendap1.nodc.no/opendap//projects/nansen_legacy/cytometry/Flow_cytometry_measurements_during_Nansen_Legacy_cruise_2021708_station_NLEG12_in_the_Northern_Barents_Sea.nc\"                               \n",
      " [86] \"https://opendap1.nodc.no/opendap//projects/nansen_legacy/cytometry/Flow_cytometry_measurements_during_Nansen_Legacy_cruise_2021708_station_NLEG14_in_the_Northern_Barents_Sea.nc\"                               \n",
      " [87] \"https://opendap1.nodc.no/opendap//projects/nansen_legacy/cytometry/Flow_cytometry_measurements_during_Nansen_Legacy_cruise_2021708_station_NLEG15_in_the_Northern_Barents_Sea.nc\"                               \n",
      " [88] \"https://opendap1.nodc.no/opendap//projects/nansen_legacy/cytometry/Flow_cytometry_measurements_during_Nansen_Legacy_cruise_2021708_station_NLEG19_in_the_Northern_Barents_Sea.nc\"                               \n",
      " [89] \"https://opendap1.nodc.no/opendap//projects/nansen_legacy/cytometry/Flow_cytometry_measurements_during_Nansen_Legacy_cruise_2021708_station_NLEG23_in_the_Northern_Barents_Sea.nc\"                               \n",
      " [90] \"https://opendap1.nodc.no/opendap//projects/nansen_legacy/cytometry/Flow_cytometry_measurements_during_Nansen_Legacy_cruise_2021708_station_P1_in_the_Northern_Barents_Sea.nc\"                                   \n",
      " [91] \"https://opendap1.nodc.no/opendap//projects/nansen_legacy/cytometry/Flow_cytometry_measurements_during_Nansen_Legacy_cruise_2021708_station_P2_in_the_Northern_Barents_Sea.nc\"                                   \n",
      " [92] \"https://opendap1.nodc.no/opendap//projects/nansen_legacy/cytometry/Flow_cytometry_measurements_during_Nansen_Legacy_cruise_2021708_station_P3_extra_high_resolution_chla_max_CTD_in_the_Northern_Barents_Sea.nc\"\n",
      " [93] \"https://opendap1.nodc.no/opendap//projects/nansen_legacy/cytometry/Flow_cytometry_measurements_during_Nansen_Legacy_cruise_2021708_station_P3_in_the_Northern_Barents_Sea.nc\"                                   \n",
      " [94] \"https://opendap1.nodc.no/opendap//projects/nansen_legacy/cytometry/Flow_cytometry_measurements_during_Nansen_Legacy_cruise_2021708_station_P4_in_the_Northern_Barents_Sea.nc\"                                   \n",
      " [95] \"https://opendap1.nodc.no/opendap//projects/nansen_legacy/cytometry/Flow_cytometry_measurements_during_Nansen_Legacy_cruise_2021708_station_P5_in_the_Northern_Barents_Sea.nc\"                                   \n",
      " [96] \"https://opendap1.nodc.no/opendap//projects/nansen_legacy/cytometry/Flow_cytometry_measurements_during_Nansen_Legacy_cruise_2021708_station_P6_in_the_Northern_Barents_Sea.nc\"                                   \n",
      " [97] \"https://opendap1.nodc.no/opendap//projects/nansen_legacy/cytometry/Flow_cytometry_measurements_during_Nansen_Legacy_cruise_2021708_station_P7_in_the_Northern_Barents_Sea.nc\"                                   \n",
      " [98] \"https://opendap1.nodc.no/opendap//projects/nansen_legacy/cytometry/Flow_cytometry_measurements_during_Nansen_Legacy_cruise_2021710_station_NLEG26_in_the_Arctic_Ocean.nc\"                                       \n",
      " [99] \"https://opendap1.nodc.no/opendap//projects/nansen_legacy/cytometry/Flow_cytometry_measurements_during_Nansen_Legacy_cruise_2021710_station_NLEG27_in_the_Arctic_Ocean.nc\"                                       \n",
      "[100] \"https://opendap1.nodc.no/opendap//projects/nansen_legacy/cytometry/Flow_cytometry_measurements_during_Nansen_Legacy_cruise_2021710_station_NLEG28_in_the_Arctic_Ocean.nc\"                                       \n",
      "[101] \"https://opendap1.nodc.no/opendap//projects/nansen_legacy/cytometry/Flow_cytometry_measurements_during_Nansen_Legacy_cruise_2021710_station_NLEG30_in_the_Arctic_Ocean.nc\"                                       \n",
      "[102] \"https://opendap1.nodc.no/opendap//projects/nansen_legacy/cytometry/Flow_cytometry_measurements_during_Nansen_Legacy_cruise_2021710_station_NLEG31_in_the_Arctic_Ocean.nc\"                                       \n",
      "[103] \"https://opendap1.nodc.no/opendap//projects/nansen_legacy/cytometry/Flow_cytometry_measurements_during_Nansen_Legacy_cruise_2021710_station_NLEG32_in_the_Arctic_Ocean.nc\"                                       \n",
      "[104] \"https://opendap1.nodc.no/opendap//projects/nansen_legacy/cytometry/Flow_cytometry_measurements_during_Nansen_Legacy_cruise_2021710_station_NLEG34_in_the_Arctic_Ocean.nc\"                                       \n",
      "[105] \"https://opendap1.nodc.no/opendap//projects/nansen_legacy/cytometry/Flow_cytometry_measurements_during_Nansen_Legacy_cruise_2021710_station_NLEG35_in_the_Arctic_Ocean.nc\"                                       \n",
      "[106] \"https://opendap1.nodc.no/opendap//projects/nansen_legacy/cytometry/Flow_cytometry_measurements_during_Nansen_Legacy_cruise_2021710_station_NLEG37-thinice_in_the_Arctic_Ocean.nc\"                               \n",
      "[107] \"https://opendap1.nodc.no/opendap//projects/nansen_legacy/cytometry/Flow_cytometry_measurements_during_Nansen_Legacy_cruise_2021710_station_NLEG37_in_the_Arctic_Ocean.nc\"                                       \n",
      "[108] \"https://opendap1.nodc.no/opendap//projects/nansen_legacy/cytometry/Flow_cytometry_measurements_during_Nansen_Legacy_cruise_2021710_station_NLEG40_in_the_Arctic_Ocean.nc\"                                       \n",
      "[109] \"https://opendap1.nodc.no/opendap//projects/nansen_legacy/cytometry/Flow_cytometry_measurements_during_Nansen_Legacy_cruise_2021710_station_NLEG41_in_the_Arctic_Ocean.nc\"                                       \n",
      "[110] \"https://opendap1.nodc.no/opendap//projects/nansen_legacy/cytometry/Flow_cytometry_measurements_during_Nansen_Legacy_cruise_2021710_station_P10-meltpond_in_the_Arctic_Ocean.nc\"                                 \n",
      "[111] \"https://opendap1.nodc.no/opendap//projects/nansen_legacy/cytometry/Flow_cytometry_measurements_during_Nansen_Legacy_cruise_2021710_station_P10-thinice_in_the_Arctic_Ocean.nc\"                                  \n",
      "[112] \"https://opendap1.nodc.no/opendap//projects/nansen_legacy/cytometry/Flow_cytometry_measurements_during_Nansen_Legacy_cruise_2021710_station_P10_in_the_Arctic_Ocean.nc\"                                          \n",
      "[113] \"https://opendap1.nodc.no/opendap//projects/nansen_legacy/cytometry/Flow_cytometry_measurements_during_Nansen_Legacy_cruise_2021710_station_P10_seaice_in_the_Arctic_Ocean.nc\"                                   \n",
      "[114] \"https://opendap1.nodc.no/opendap//projects/nansen_legacy/cytometry/Flow_cytometry_measurements_during_Nansen_Legacy_cruise_2021710_station_P11-meltpond_in_the_Arctic_Ocean.nc\"                                 \n",
      "[115] \"https://opendap1.nodc.no/opendap//projects/nansen_legacy/cytometry/Flow_cytometry_measurements_during_Nansen_Legacy_cruise_2021710_station_P11-thinice_in_the_Arctic_Ocean.nc\"                                  \n",
      "[116] \"https://opendap1.nodc.no/opendap//projects/nansen_legacy/cytometry/Flow_cytometry_measurements_during_Nansen_Legacy_cruise_2021710_station_P11_in_the_Arctic_Ocean.nc\"                                          \n",
      "[117] \"https://opendap1.nodc.no/opendap//projects/nansen_legacy/cytometry/Flow_cytometry_measurements_during_Nansen_Legacy_cruise_2021710_station_P11_seaice_in_the_Arctic_Ocean.nc\"                                   \n",
      "[118] \"https://opendap1.nodc.no/opendap//projects/nansen_legacy/cytometry/Flow_cytometry_measurements_during_Nansen_Legacy_cruise_2021710_station_P7_in_the_Arctic_Ocean.nc\"                                           \n",
      "[119] \"https://opendap1.nodc.no/opendap//projects/nansen_legacy/cytometry/Flow_cytometry_measurements_during_Nansen_Legacy_cruise_2021710_station_P8-meltpond_in_the_Arctic_Ocean.nc\"                                  \n",
      "[120] \"https://opendap1.nodc.no/opendap//projects/nansen_legacy/cytometry/Flow_cytometry_measurements_during_Nansen_Legacy_cruise_2021710_station_P8_in_the_Arctic_Ocean.nc\"                                           \n",
      "[121] \"https://opendap1.nodc.no/opendap//projects/nansen_legacy/cytometry/Flow_cytometry_measurements_during_Nansen_Legacy_cruise_2021710_station_P8_seaice_in_the_Arctic_Ocean.nc\"                                    \n",
      "[122] \"https://opendap1.nodc.no/opendap//projects/nansen_legacy/cytometry/Flow_cytometry_measurements_during_Nansen_Legacy_cruise_2021710_station_P9-meltpond_in_the_Arctic_Ocean.nc\"                                  \n",
      "[123] \"https://opendap1.nodc.no/opendap//projects/nansen_legacy/cytometry/Flow_cytometry_measurements_during_Nansen_Legacy_cruise_2021710_station_P9-thinice_in_the_Arctic_Ocean.nc\"                                   \n",
      "[124] \"https://opendap1.nodc.no/opendap//projects/nansen_legacy/cytometry/Flow_cytometry_measurements_during_Nansen_Legacy_cruise_2021710_station_P9_in_the_Arctic_Ocean.nc\"                                           \n",
      "[125] \"https://opendap1.nodc.no/opendap//projects/nansen_legacy/cytometry/Flow_cytometry_measurements_during_Nansen_Legacy_cruise_2021710_station_P9_seaice_in_the_Arctic_Ocean.nc\"                                    \n"
     ]
    }
   ],
   "source": [
    "# Read the XML file\n",
    "xml_url <- 'https://opendap1.nodc.no/opendap/hyrax/projects/nansen_legacy/cytometry/catalog.xml'\n",
    "xml_content <- read_xml(xml_url)\n",
    "\n",
    "# Extract all <thredds:access> nodes with serviceName=\"dap\"\n",
    "dap_nodes <- xml_find_all(xml_content, \".//thredds:access[@serviceName='dap']\", ns = xml_ns(xml_content))\n",
    "\n",
    "# Extract the URLs\n",
    "dap_urls <- xml_attr(dap_nodes, \"urlPath\")\n",
    "\n",
    "# Base URL\n",
    "base_url <- \"https://opendap1.nodc.no/opendap/\"\n",
    "\n",
    "# Combine base URL with URL paths to get full URLs\n",
    "full_urls <- paste0(base_url, dap_urls)\n",
    "\n",
    "# Print the full URLs\n",
    "print(full_urls)"
   ]
  },
  {
   "cell_type": "markdown",
   "id": "df680acc",
   "metadata": {},
   "source": [
    "Now we need to use a for loop to access each file in turn. Here is a quick example of how a for loop works if you are not familiar."
   ]
  },
  {
   "cell_type": "code",
   "execution_count": 11,
   "id": "494bf456",
   "metadata": {},
   "outputs": [
    {
     "name": "stdout",
     "output_type": "stream",
     "text": [
      "[1] \"Hello there, pig\"\n",
      "[1] \"Hello there, dog\"\n",
      "[1] \"Hello there, horse\"\n"
     ]
    }
   ],
   "source": [
    "animals <- c('pig', 'dog', 'horse')\n",
    "\n",
    "for (animal in animals) {\n",
    "    message <- paste('Hello there,',animal)\n",
    "    print(message)\n",
    "}"
   ]
  },
  {
   "cell_type": "markdown",
   "id": "a4d28a65",
   "metadata": {},
   "source": [
    "Now let's write the data from each NetCDF file to a different CSV file."
   ]
  },
  {
   "cell_type": "code",
   "execution_count": 12,
   "id": "a32efc48",
   "metadata": {},
   "outputs": [],
   "source": [
    "for (url in full_urls) {\n",
    "    data <- open.nc(url)\n",
    "    \n",
    "    depth <- var.get.nc(data, \"depth\")\n",
    "    taxon_names <- var.get.nc(data, \"taxon_name\")\n",
    "    abundance <- var.get.nc(data, 'abundance')\n",
    "    \n",
    "    # Writing the data to a dataframe\n",
    "    abundance_df <- as.data.frame(abundance)\n",
    "    colnames(abundance_df) <- taxon_names\n",
    "    abundance_df$depth <- depth\n",
    "    abundance_df <- abundance_df[, c(ncol(abundance_df), 1:(ncol(abundance_df)-1))]\n",
    "    \n",
    "    filename <- basename(url) # Extract the filename of the NetCDF file\n",
    "    csv_filename <- sub(\"\\\\.nc$\", \".csv\", filename) # Replace .nc extension with .csv\n",
    "    \n",
    "    # Write to CSV\n",
    "    # write.csv(abundance_df, paste0(\"../data/\", csv_filename), row.names = FALSE)   \n",
    "    \n",
    "}"
   ]
  },
  {
   "cell_type": "markdown",
   "id": "d89f7dda",
   "metadata": {},
   "source": [
    "## Citing the data\n",
    "\n",
    "Parent-child relationships have been used in this data publication. Here is the landing page for all the data from all cruises.\n",
    "https://doi.org/10.21335/NMDC-1588963816\n",
    "\n",
    "This is the recommended citation if you use all of the data or data from many different cruises.\n",
    "\n",
    "*Oliver Müller; Elzbieta Petelenz; Tatiana Tsagkaraki; Maria Langvad; Lasse Olsen; Anna Grytaas; Stefan Thiele; Hilde Stabell; Evy Skjoldal; Selina Våge; Gunnar Bratbak (2023) Flow cytometry measurements (abundance of virus, bacteria and small protists (primarily <20μm)) during Nansen Legacy cruises https://doi.org/10.21335/NMDC-1588963816*\n",
    "\n",
    "You can navigate to different *parts* and there is one part per cruise on the landing page. There is one citation per cruise that you can use if you cite if you are using data only from one cruise. For example\n",
    "\n",
    "*Oliver Müller; Elzbieta Petelenz; Tatiana Tsagkaraki; Maria Langvad; Hilde Stabell; Gunnar Bratbak (2023) Flow cytometry measurements (abundance of virus, bacteria and small protists (primarily <20μm)) during Nansen Legacy cruise 2019711 (from November 28th to December 17th in 2019) in the Northern Barents Sea https://doi.org/10.21335/NMDC-2099951995*\n",
    "\n",
    "You can also navigate further to one part per cast. You can cite one of a couple of casts if these are the only data you have used in this collection. For example\n",
    "\n",
    "*Oliver Müller; Elzbieta Petelenz; Tatiana Tsagkaraki; Maria Langvad; Hilde Stabell; Gunnar Bratbak (2023) Flow cytometry measurements (abundance of virus, bacteria and small protists (primarily <20μm)) during Nansen Legacy cruise 2019711 (from November 28th to December 17th in 2019) at station P3 (NLEG07) in the Northern Barents Sea https://doi.org/10.21335/NMDC-2099951995_P3(NLEG07)*\n",
    "\n",
    "## Citing this tutorial\n",
    "\n",
    "If you find this tutorial series useful for your work, consider citing the repository:\n",
    "\n",
    "Luke Marsden. (2024, May 24). Accessing Nansen Legacy data in R. Zenodo. https://doi.org/10.5281/zenodo.11277693\n",
    "\n",
    "[![DOI](https://zenodo.org/badge/DOI/10.5281/zenodo.11277693.svg)](https://doi.org/10.5281/zenodo.11277693)"
   ]
  }
 ],
 "metadata": {
  "kernelspec": {
   "display_name": "R",
   "language": "R",
   "name": "ir"
  },
  "language_info": {
   "codemirror_mode": "r",
   "file_extension": ".r",
   "mimetype": "text/x-r-source",
   "name": "R",
   "pygments_lexer": "r",
   "version": "4.3.3"
  }
 },
 "nbformat": 4,
 "nbformat_minor": 5
}
