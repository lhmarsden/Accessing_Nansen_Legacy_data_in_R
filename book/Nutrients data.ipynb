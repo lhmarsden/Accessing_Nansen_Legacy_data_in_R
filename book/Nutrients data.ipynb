{
 "cells": [
  {
   "cell_type": "markdown",
   "id": "28942b27-496e-4e36-ab31-ab1a416cd777",
   "metadata": {},
   "source": [
    "# Nutrients data"
   ]
  },
  {
   "cell_type": "markdown",
   "id": "7d8f4ec3",
   "metadata": {},
   "source": [
    "Let's first load in some libraries that we are going to use today. If you are not sure whether you have the library installed, you can embed *install.packages* within an *if* statement, like this"
   ]
  },
  {
   "cell_type": "code",
   "execution_count": 1,
   "id": "6699ff0e",
   "metadata": {},
   "outputs": [],
   "source": [
    "if (!requireNamespace(\"RNetCDF\", quietly = TRUE)) {\n",
    "  install.packages(\"RNetCDF\")\n",
    "}\n",
    "library(RNetCDF)\n",
    "if (!requireNamespace(\"writexl\", quietly = TRUE)) {\n",
    "  install.packages(\"writexl\")\n",
    "}\n",
    "library(writexl)"
   ]
  },
  {
   "cell_type": "markdown",
   "id": "0a3fab42-0dbf-488a-97c3-11643aabc21d",
   "metadata": {},
   "source": [
    "The data are available via a THREDDS server that you can find here:\n",
    "https://opendap1.nodc.no/opendap/hyrax/projects/nansen_legacy/nutrients/contents.html\n",
    "\n",
    "If you open the link above, you can navigate to different NetCDF files, and you will be linked to OPeNDAP data access forms like this one:\n",
    "https://opendap1.nodc.no/opendap/hyrax/projects/nansen_legacy/nutrients/aen_q4_bottle_data_nutrients_2019711.nc.html\n",
    "\n",
    "OPeNDAP makes it possible to access data over the internet without you having to download the data to your computer first. You can just remove the *html* suffix from the URL above and include it in your R script in the same way that you might include some absolute filepath to a file on your computer. \n",
    "\n",
    "So now let's load the data into R for this cast."
   ]
  },
  {
   "cell_type": "code",
   "execution_count": 2,
   "id": "796f1c01-f57c-4047-93c8-133796f4a1d0",
   "metadata": {
    "vscode": {
     "languageId": "r"
    }
   },
   "outputs": [
    {
     "name": "stdout",
     "output_type": "stream",
     "text": [
      "netcdf classic {\n",
      "dimensions:\n",
      "\tTIME = 17 ;\n",
      "\tZ = 18 ;\n",
      "\tmaxStrlen64 = 64 ;\n",
      "variables:\n",
      "\tNC_DOUBLE TIME(TIME) ;\n",
      "\t\tNC_CHAR TIME:units = \"days since 1950-01-01T00:00:00Z\" ;\n",
      "\t\tNC_CHAR TIME:calendar = \"standard\" ;\n",
      "\t\tNC_CHAR TIME:standard_name = \"time\" ;\n",
      "\t\tNC_CHAR TIME:long_name = \"Chronological Julian Date\" ;\n",
      "\t\tNC_DOUBLE TIME:valid_min = 0 ;\n",
      "\t\tNC_DOUBLE TIME:valid_max = 2500000 ;\n",
      "\t\tNC_CHAR TIME:axis = \"T\" ;\n",
      "\tNC_CHAR cruise(maxStrlen64, TIME) ;\n",
      "\t\tNC_CHAR cruise:_FillValue = \"\" ;\n",
      "\t\tNC_CHAR cruise:long_name = \"Cruise number\" ;\n",
      "\t\tNC_INT cruise:string_length = 10 ;\n",
      "\tNC_CHAR station(maxStrlen64, TIME) ;\n",
      "\t\tNC_CHAR station:_FillValue = \"\" ;\n",
      "\t\tNC_CHAR station:long_name = \"Station\" ;\n",
      "\t\tNC_CHAR station:units = \"#\" ;\n",
      "\t\tNC_INT station:string_length = 10 ;\n",
      "\tNC_CHAR cast(maxStrlen64, TIME) ;\n",
      "\t\tNC_CHAR cast:_FillValue = \"\" ;\n",
      "\t\tNC_CHAR cast:long_name = \"CTD cast number\" ;\n",
      "\t\tNC_INT cast:string_length = 3 ;\n",
      "\tNC_FLOAT PSAL(Z, TIME) ;\n",
      "\t\tNC_FLOAT PSAL:_FillValue = -9999 ;\n",
      "\t\tNC_CHAR PSAL:units = \"Dmnless\" ;\n",
      "\t\tNC_CHAR PSAL:standard_name = \"sea_water_practical_salinity\" ;\n",
      "\t\tNC_DOUBLE PSAL:valid_min = 2 ;\n",
      "\t\tNC_DOUBLE PSAL:valid_max = 41 ;\n",
      "\tNC_FLOAT PRESSURE(Z, TIME) ;\n",
      "\t\tNC_FLOAT PRESSURE:_FillValue = -9999 ;\n",
      "\t\tNC_CHAR PRESSURE:positive = \"down\" ;\n",
      "\t\tNC_CHAR PRESSURE:units = \"dbar\" ;\n",
      "\t\tNC_CHAR PRESSURE:standard_name = \"sea_water_pressure\" ;\n",
      "\t\tNC_CHAR PRESSURE:long_name = \"sea water pressure\" ;\n",
      "\t\tNC_DOUBLE PRESSURE:valid_min = 0 ;\n",
      "\t\tNC_DOUBLE PRESSURE:valid_max = 12000 ;\n",
      "\t\tNC_CHAR PRESSURE:axis = \"Z\" ;\n",
      "\tNC_FLOAT NTRA(Z, TIME) ;\n",
      "\t\tNC_FLOAT NTRA:_FillValue = -9999 ;\n",
      "\t\tNC_CHAR NTRA:units = \"umol/l\" ;\n",
      "\t\tNC_CHAR NTRA:standard_name = \"mole_concentration_of_nitrate_in_sea_water\" ;\n",
      "\tNC_FLOAT TEMP(Z, TIME) ;\n",
      "\t\tNC_FLOAT TEMP:_FillValue = -9999 ;\n",
      "\t\tNC_CHAR TEMP:units = \"degC\" ;\n",
      "\t\tNC_CHAR TEMP:standard_name = \"sea_water_temperature\" ;\n",
      "\t\tNC_DOUBLE TEMP:valid_min = -2.5 ;\n",
      "\t\tNC_DOUBLE TEMP:valid_max = 40 ;\n",
      "\tNC_FLOAT PHOS(Z, TIME) ;\n",
      "\t\tNC_FLOAT PHOS:_FillValue = -9999 ;\n",
      "\t\tNC_CHAR PHOS:units = \"umol/l\" ;\n",
      "\t\tNC_CHAR PHOS:standard_name = \"mole_concentration_of_phosphate_in_sea_water\" ;\n",
      "\tNC_FLOAT NTRI(Z, TIME) ;\n",
      "\t\tNC_FLOAT NTRI:_FillValue = -9999 ;\n",
      "\t\tNC_CHAR NTRI:units = \"umol/l\" ;\n",
      "\t\tNC_CHAR NTRI:standard_name = \"mole_concentration_of_nitrite_in_sea_water\" ;\n",
      "\tNC_INT niskin(Z, TIME) ;\n",
      "\t\tNC_INT niskin:_FillValue = -128 ;\n",
      "\t\tNC_CHAR niskin:long_name = \"Water bottle number\" ;\n",
      "\t\tNC_CHAR niskin:units = \"#\" ;\n",
      "\tNC_INT bot.depth(Z, TIME) ;\n",
      "\t\tNC_INT bot.depth:_FillValue = -128 ;\n",
      "\t\tNC_CHAR bot.depth:long_name = \"Bottom depth\" ;\n",
      "\t\tNC_CHAR bot.depth:units = \"#\" ;\n",
      "\tNC_FLOAT SLCA(Z, TIME) ;\n",
      "\t\tNC_FLOAT SLCA:_FillValue = -9999 ;\n",
      "\t\tNC_CHAR SLCA:units = \"umol/l\" ;\n",
      "\t\tNC_CHAR SLCA:standard_name = \"mole_concentration_of_silicate_in_sea_water\" ;\n",
      "\tNC_FLOAT LONGITUDE(TIME) ;\n",
      "\t\tNC_CHAR LONGITUDE:standard_name = \"latitude\" ;\n",
      "\t\tNC_CHAR LONGITUDE:long_name = \"Longitude\" ;\n",
      "\t\tNC_CHAR LONGITUDE:units = \"degree_east\" ;\n",
      "\t\tNC_DOUBLE LONGITUDE:valid_min = -180 ;\n",
      "\t\tNC_DOUBLE LONGITUDE:valid_max = 180 ;\n",
      "\t\tNC_CHAR LONGITUDE:axis = \"X\" ;\n",
      "\tNC_FLOAT LATITUDE(TIME) ;\n",
      "\t\tNC_CHAR LATITUDE:standard_name = \"longitude\" ;\n",
      "\t\tNC_CHAR LATITUDE:long_name = \"Latitude\" ;\n",
      "\t\tNC_CHAR LATITUDE:units = \"degree_north\" ;\n",
      "\t\tNC_DOUBLE LATITUDE:valid_min = -90 ;\n",
      "\t\tNC_DOUBLE LATITUDE:valid_max = 90 ;\n",
      "\t\tNC_CHAR LATITUDE:axis = \"Y\" ;\n",
      "\n",
      "// global attributes:\n",
      "\t\tNC_CHAR :_NCProperties = \"version=2,netcdf=4.9.3-development,hdf5=1.12.2\" ;\n",
      "\t\tNC_CHAR :publisher_name = \"The Norwegian Marine Data Centre (NMD)\" ;\n",
      "\t\tNC_CHAR :publisher_email = \"datahjelp@hi.no\" ;\n",
      "\t\tNC_CHAR :publisher_url = \"https://www.nmdc.no/\" ;\n",
      "\t\tNC_CHAR :data_assembly_center = \"The Norwegian Marine Data Centre (NMD)\" ;\n",
      "\t\tNC_CHAR :license = \"https://creativecommons.org/licenses/by/4.0/\" ;\n",
      "\t\tNC_CHAR :project = \"Nansen Legacy\" ;\n",
      "\t\tNC_CHAR :title = \"Water column data on dissolved inorganic nutrients (nitrite, nitrate, phosphate and silicic acid) from the Nansen LEGACY seasonal cruise Q4, 2019711, with R.V. Kronprins Haakon, 30 November-13 December 2019\" ;\n",
      "\t\tNC_CHAR :Conventions = \"CF-1.11, ACDD-1.3, OceanSITES Manual 1.4\" ;\n",
      "\t\tNC_CHAR :mission_type = \"\" ;\n",
      "\t\tNC_CHAR :instrument_type = \"\" ;\n",
      "\t\tNC_CHAR :instrument_mount = \"\" ;\n",
      "\t\tNC_CHAR :platform = \"\" ;\n",
      "\t\tNC_CHAR :principal_investigator = \"Melissa Chierici\" ;\n",
      "\t\tNC_CHAR :institution = \"\" ;\n",
      "\t\tNC_CHAR :id = \"IMR_2021_waterColumn_2019711\" ;\n",
      "\t\tNC_CHAR :summary = \"The cruise 2019711 aboard the Research Vessel Kronprins Haakon is the seasonal cruise Q4 of the project the Nansen LEGACY. LEGACY is the Norwegian Arctic research community’s joint effort to establish a holistic understanding of a changing marine Arctic climate and ecosystem. Water column temperature and salinity profiles were obtained with a conductivity-temperature-depth (CTD) sensor system Sea-Bird SBE 911+ mounted on a General Oceanic rosette sampler equipped with 24-Niskin bottles used for seawater sampling of chemical variables in the water column. Samples for determination of dissolved inorganic nutrients were collected from full water column at a total of 17 stations in the northern Barents Sea. The seawater samples were collected from Niskin bottles in 20 ml plastic HDPE vials (rinsed three times)  and preserved with 250 µL chloroform and stored +4C and dark until post-cruise analysis of nitrite, NO2, nitrate, NO3-, phosphate, PO43-, and silicate, Si(OH)4, following standard methods (Grasshoff et al., 2009) at the chemical laboratory at Institute of Marine Research, Bergen, Norway. Three replicates were analyzed for each sample. The detection limits are 0.06 µmol/L, 0.5 µmol/L, 0.06 µmol/L and 0.7 µmol/L for NO2, NO3-, PO43-, and Si(OH)4, respectively. The study was funded by the Research Council of Norway through the project The Nansen LEGACY (RCN #276730).\" ;\n",
      "\t\tNC_CHAR :comment = \"2019-12-05T09:21:41 pressure = 49.831: problemer med konserverinng; 2019-12-06T06:53:43 pressure = 50.339: problemer med konserverinng; 2019-12-08T16:17:18 pressure = 50.355: preservation problems; 2019-12-06T06:53:43 pressure = 50.339: preservation problems; 2019-12-09T12:39:12 pressure = 30.436: preservation problems; 2019-12-09T12:40:45 pressure = 20.256: preservation problems; 2019-12-09T21:29:08 pressure = 200.712: preservation problems; 2019-12-10T10:18:50 pressure = 177.767: preservation problems; 2019-12-10T10:29:37 pressure = 60.698: preservation problems; 2019-12-10T10:31:25 pressure = 50.879: preservation problems; 2019-12-10T17:52:51 pressure = 150.535: preservation problems; 2019-12-10T17:57:03 pressure = 90.198: preservation problems\" ;\n",
      "\t\tNC_CHAR :principal_investigator_email = \"melissa.chierici@hi.no\" ;\n",
      "\t\tNC_CHAR :contributor_name = \"Elizabeth Jones, Helene Hodal Lødemel\" ;\n",
      "\t\tNC_CHAR :contributor_email = \"elizabeth.jones@hi.no, helene.hodal.loedemel@hi.no\" ;\n",
      "\t\tNC_CHAR :contributor_role = \"Technical Contact, Technical Contact\" ;\n",
      "\t\tNC_CHAR :keywords = \"EARTH SCIENCE > OCEANS > OCEAN CHEMISTRY > NUTRIENTS\" ;\n",
      "\t\tNC_CHAR :citation = \"\" ;\n",
      "\t\tNC_CHAR :references = \"https://arvenetternansen.com/seasonal-cruise-q4/\" ;\n",
      "\t\tNC_CHAR :doi = \"10.21335/NMDC-1629206101\" ;\n",
      "\t\tNC_CHAR :featureType = \"trajectoryProfile\" ;\n",
      "\t\tNC_CHAR :time_coverage_start = \"2019-12-03T00:22:25Z\" ;\n",
      "\t\tNC_CHAR :time_coverage_end = \"2019-12-12T17:16:19Z\" ;\n",
      "\t\tNC_DOUBLE :geospatial_lat_min = 75.9995 ;\n",
      "\t\tNC_DOUBLE :geospatial_lat_max = 82.0698333333333 ;\n",
      "\t\tNC_DOUBLE :geospatial_lon_min = 28.4971666666667 ;\n",
      "\t\tNC_DOUBLE :geospatial_lon_max = 34.3156666666667 ;\n",
      "\t\tNC_DOUBLE :geospatial_vertical_min = 9.983 ;\n",
      "\t\tNC_DOUBLE :geospatial_vertical_max = 3621.132 ;\n",
      "\t\tNC_CHAR :date_created = \"2024-03-22T09:13:43Z\" ;\n",
      "\t\tNC_CHAR :time_update = \"2024-03-22T09:13:43Z\" ;\n",
      "}\n"
     ]
    }
   ],
   "source": [
    "url <- 'https://opendap1.nodc.no/opendap/hyrax/projects/nansen_legacy/nutrients/aen_q4_bottle_data_nutrients_2019711.nc'\n",
    "data <- open.nc(url)\n",
    "print.nc(data)"
   ]
  },
  {
   "cell_type": "markdown",
   "id": "56b7cc7d",
   "metadata": {},
   "source": [
    "There are 3 dimensions; TIME, Z and maxStrlen64. \n",
    "\n",
    "We can deduce that there are 17 depth profiles and there are 18 points of depth in each. This doesn't mean that there are 18 samples for every station; more likely there is a lot of 'empty' space in this file where a measurement was not taken at a certain depth. This is necessary for us to use a single depth dimension for a range of different depth profiles, which each sample different depths.\n",
    "\n",
    "There are some 1D variables, like *LONGITUDE* and *LATITUDE*, each a function of time. But most of the variables are 2D.\n",
    "\n",
    "Most of the data variables have dimensions *Z* and *TIME*.\n",
    "\n",
    "Some metadata is stored in variables like *station* and *cast* and *cruise*. These variables have dimensions *maxStrlen64* and *TIME*. This is because they contain text. *maxStrlen64* has a value of 64, which means that no text value should be longer than 64 characters long. So even though there are 2 dimensions, you have one text value (e.g. one station name) per time.\n",
    "\n",
    "Let's access some of the coordinate and data variables."
   ]
  },
  {
   "cell_type": "code",
   "execution_count": 3,
   "id": "6ab3a063",
   "metadata": {},
   "outputs": [
    {
     "data": {
      "text/html": [
       "<table class=\"dataframe\">\n",
       "<caption>A matrix: 18 × 17 of type dbl</caption>\n",
       "<tbody>\n",
       "\t<tr><td>3621.132</td><td>2927.991</td><td>2004.164</td><td>871.436</td><td>201.465</td><td>211.932</td><td>201.796</td><td>135.949</td><td>203.936</td><td>330.989</td><td>198.234</td><td>291.462</td><td>177.767</td><td>177.805</td><td>120.784</td><td>301.860</td><td>315.573</td></tr>\n",
       "\t<tr><td>2500.721</td><td> 750.370</td><td>1750.716</td><td>751.068</td><td>150.900</td><td>200.174</td><td>120.500</td><td>120.362</td><td>150.334</td><td>200.580</td><td>151.539</td><td>200.712</td><td>150.295</td><td>150.535</td><td> 90.713</td><td>200.579</td><td>200.211</td></tr>\n",
       "\t<tr><td>2000.283</td><td> 501.008</td><td>1501.269</td><td>501.803</td><td>120.667</td><td>151.198</td><td> 90.533</td><td> 90.597</td><td>120.386</td><td>150.342</td><td> 90.829</td><td>150.716</td><td>120.341</td><td>120.105</td><td> 50.513</td><td>150.725</td><td>150.154</td></tr>\n",
       "\t<tr><td>1750.291</td><td> 200.965</td><td>1000.559</td><td>203.728</td><td> 90.370</td><td>120.736</td><td> 60.972</td><td> 60.412</td><td> 90.318</td><td>120.218</td><td> 60.488</td><td>120.353</td><td> 90.286</td><td> 90.198</td><td> 40.427</td><td>120.903</td><td> 90.265</td></tr>\n",
       "\t<tr><td>1501.069</td><td> 150.542</td><td> 749.709</td><td>152.381</td><td> 60.016</td><td> 90.098</td><td> 50.346</td><td> 50.301</td><td> 60.876</td><td> 60.502</td><td> 50.378</td><td> 90.547</td><td> 60.698</td><td> 59.925</td><td> 30.455</td><td> 60.837</td><td> 39.418</td></tr>\n",
       "\t<tr><td>1000.419</td><td> 120.306</td><td> 500.943</td><td>121.533</td><td> 49.875</td><td> 60.250</td><td> 40.553</td><td> 40.332</td><td> 50.402</td><td> 50.355</td><td> 40.429</td><td> 60.448</td><td> 50.879</td><td> 49.761</td><td> 20.076</td><td> 50.641</td><td> 30.484</td></tr>\n",
       "\t<tr><td> 750.033</td><td>  90.308</td><td> 202.382</td><td> 91.170</td><td> 40.474</td><td> 50.339</td><td> 30.263</td><td> 30.110</td><td> 39.968</td><td> 40.898</td><td> 30.436</td><td> 49.860</td><td> 40.990</td><td> 40.532</td><td> 10.462</td><td> 40.791</td><td> 20.591</td></tr>\n",
       "\t<tr><td> 500.130</td><td>  60.446</td><td> 151.072</td><td> 61.094</td><td> 29.979</td><td> 39.982</td><td> 20.123</td><td> 20.260</td><td> 30.616</td><td> 30.437</td><td> 20.256</td><td> 40.130</td><td> 30.122</td><td> 29.778</td><td>     NA</td><td>     NA</td><td> 10.237</td></tr>\n",
       "\t<tr><td> 200.118</td><td>  50.363</td><td> 121.168</td><td> 49.831</td><td> 20.405</td><td> 29.955</td><td> 10.534</td><td>  9.983</td><td> 20.127</td><td> 19.957</td><td> 10.239</td><td> 30.033</td><td> 20.643</td><td> 20.175</td><td>     NA</td><td>     NA</td><td>     NA</td></tr>\n",
       "\t<tr><td> 149.430</td><td>  40.254</td><td>  91.780</td><td> 40.401</td><td> 10.133</td><td> 20.313</td><td>     NA</td><td>     NA</td><td> 10.383</td><td> 10.182</td><td>     NA</td><td> 20.045</td><td>     NA</td><td> 10.053</td><td>     NA</td><td>     NA</td><td>     NA</td></tr>\n",
       "\t<tr><td> 120.215</td><td>  30.312</td><td>  61.373</td><td> 30.413</td><td>     NA</td><td> 10.465</td><td>     NA</td><td>     NA</td><td>     NA</td><td>     NA</td><td>     NA</td><td> 10.058</td><td>     NA</td><td>     NA</td><td>     NA</td><td>     NA</td><td>     NA</td></tr>\n",
       "\t<tr><td>  90.378</td><td>  20.225</td><td>  50.733</td><td> 20.323</td><td>     NA</td><td>     NA</td><td>     NA</td><td>     NA</td><td>     NA</td><td>     NA</td><td>     NA</td><td>     NA</td><td>     NA</td><td>     NA</td><td>     NA</td><td>     NA</td><td>     NA</td></tr>\n",
       "\t<tr><td>  60.158</td><td>  10.489</td><td>  40.543</td><td> 10.517</td><td>     NA</td><td>     NA</td><td>     NA</td><td>     NA</td><td>     NA</td><td>     NA</td><td>     NA</td><td>     NA</td><td>     NA</td><td>     NA</td><td>     NA</td><td>     NA</td><td>     NA</td></tr>\n",
       "\t<tr><td>  50.047</td><td>      NA</td><td>  30.808</td><td>     NA</td><td>     NA</td><td>     NA</td><td>     NA</td><td>     NA</td><td>     NA</td><td>     NA</td><td>     NA</td><td>     NA</td><td>     NA</td><td>     NA</td><td>     NA</td><td>     NA</td><td>     NA</td></tr>\n",
       "\t<tr><td>  40.180</td><td>      NA</td><td>  20.485</td><td>     NA</td><td>     NA</td><td>     NA</td><td>     NA</td><td>     NA</td><td>     NA</td><td>     NA</td><td>     NA</td><td>     NA</td><td>     NA</td><td>     NA</td><td>     NA</td><td>     NA</td><td>     NA</td></tr>\n",
       "\t<tr><td>  30.256</td><td>      NA</td><td>  10.584</td><td>     NA</td><td>     NA</td><td>     NA</td><td>     NA</td><td>     NA</td><td>     NA</td><td>     NA</td><td>     NA</td><td>     NA</td><td>     NA</td><td>     NA</td><td>     NA</td><td>     NA</td><td>     NA</td></tr>\n",
       "\t<tr><td>  19.994</td><td>      NA</td><td>      NA</td><td>     NA</td><td>     NA</td><td>     NA</td><td>     NA</td><td>     NA</td><td>     NA</td><td>     NA</td><td>     NA</td><td>     NA</td><td>     NA</td><td>     NA</td><td>     NA</td><td>     NA</td><td>     NA</td></tr>\n",
       "\t<tr><td>  10.005</td><td>      NA</td><td>      NA</td><td>     NA</td><td>     NA</td><td>     NA</td><td>     NA</td><td>     NA</td><td>     NA</td><td>     NA</td><td>     NA</td><td>     NA</td><td>     NA</td><td>     NA</td><td>     NA</td><td>     NA</td><td>     NA</td></tr>\n",
       "</tbody>\n",
       "</table>\n"
      ],
      "text/latex": [
       "A matrix: 18 × 17 of type dbl\n",
       "\\begin{tabular}{lllllllllllllllll}\n",
       "\t 3621.132 & 2927.991 & 2004.164 & 871.436 & 201.465 & 211.932 & 201.796 & 135.949 & 203.936 & 330.989 & 198.234 & 291.462 & 177.767 & 177.805 & 120.784 & 301.860 & 315.573\\\\\n",
       "\t 2500.721 &  750.370 & 1750.716 & 751.068 & 150.900 & 200.174 & 120.500 & 120.362 & 150.334 & 200.580 & 151.539 & 200.712 & 150.295 & 150.535 &  90.713 & 200.579 & 200.211\\\\\n",
       "\t 2000.283 &  501.008 & 1501.269 & 501.803 & 120.667 & 151.198 &  90.533 &  90.597 & 120.386 & 150.342 &  90.829 & 150.716 & 120.341 & 120.105 &  50.513 & 150.725 & 150.154\\\\\n",
       "\t 1750.291 &  200.965 & 1000.559 & 203.728 &  90.370 & 120.736 &  60.972 &  60.412 &  90.318 & 120.218 &  60.488 & 120.353 &  90.286 &  90.198 &  40.427 & 120.903 &  90.265\\\\\n",
       "\t 1501.069 &  150.542 &  749.709 & 152.381 &  60.016 &  90.098 &  50.346 &  50.301 &  60.876 &  60.502 &  50.378 &  90.547 &  60.698 &  59.925 &  30.455 &  60.837 &  39.418\\\\\n",
       "\t 1000.419 &  120.306 &  500.943 & 121.533 &  49.875 &  60.250 &  40.553 &  40.332 &  50.402 &  50.355 &  40.429 &  60.448 &  50.879 &  49.761 &  20.076 &  50.641 &  30.484\\\\\n",
       "\t  750.033 &   90.308 &  202.382 &  91.170 &  40.474 &  50.339 &  30.263 &  30.110 &  39.968 &  40.898 &  30.436 &  49.860 &  40.990 &  40.532 &  10.462 &  40.791 &  20.591\\\\\n",
       "\t  500.130 &   60.446 &  151.072 &  61.094 &  29.979 &  39.982 &  20.123 &  20.260 &  30.616 &  30.437 &  20.256 &  40.130 &  30.122 &  29.778 &      NA &      NA &  10.237\\\\\n",
       "\t  200.118 &   50.363 &  121.168 &  49.831 &  20.405 &  29.955 &  10.534 &   9.983 &  20.127 &  19.957 &  10.239 &  30.033 &  20.643 &  20.175 &      NA &      NA &      NA\\\\\n",
       "\t  149.430 &   40.254 &   91.780 &  40.401 &  10.133 &  20.313 &      NA &      NA &  10.383 &  10.182 &      NA &  20.045 &      NA &  10.053 &      NA &      NA &      NA\\\\\n",
       "\t  120.215 &   30.312 &   61.373 &  30.413 &      NA &  10.465 &      NA &      NA &      NA &      NA &      NA &  10.058 &      NA &      NA &      NA &      NA &      NA\\\\\n",
       "\t   90.378 &   20.225 &   50.733 &  20.323 &      NA &      NA &      NA &      NA &      NA &      NA &      NA &      NA &      NA &      NA &      NA &      NA &      NA\\\\\n",
       "\t   60.158 &   10.489 &   40.543 &  10.517 &      NA &      NA &      NA &      NA &      NA &      NA &      NA &      NA &      NA &      NA &      NA &      NA &      NA\\\\\n",
       "\t   50.047 &       NA &   30.808 &      NA &      NA &      NA &      NA &      NA &      NA &      NA &      NA &      NA &      NA &      NA &      NA &      NA &      NA\\\\\n",
       "\t   40.180 &       NA &   20.485 &      NA &      NA &      NA &      NA &      NA &      NA &      NA &      NA &      NA &      NA &      NA &      NA &      NA &      NA\\\\\n",
       "\t   30.256 &       NA &   10.584 &      NA &      NA &      NA &      NA &      NA &      NA &      NA &      NA &      NA &      NA &      NA &      NA &      NA &      NA\\\\\n",
       "\t   19.994 &       NA &       NA &      NA &      NA &      NA &      NA &      NA &      NA &      NA &      NA &      NA &      NA &      NA &      NA &      NA &      NA\\\\\n",
       "\t   10.005 &       NA &       NA &      NA &      NA &      NA &      NA &      NA &      NA &      NA &      NA &      NA &      NA &      NA &      NA &      NA &      NA\\\\\n",
       "\\end{tabular}\n"
      ],
      "text/markdown": [
       "\n",
       "A matrix: 18 × 17 of type dbl\n",
       "\n",
       "| 3621.132 | 2927.991 | 2004.164 | 871.436 | 201.465 | 211.932 | 201.796 | 135.949 | 203.936 | 330.989 | 198.234 | 291.462 | 177.767 | 177.805 | 120.784 | 301.860 | 315.573 |\n",
       "| 2500.721 |  750.370 | 1750.716 | 751.068 | 150.900 | 200.174 | 120.500 | 120.362 | 150.334 | 200.580 | 151.539 | 200.712 | 150.295 | 150.535 |  90.713 | 200.579 | 200.211 |\n",
       "| 2000.283 |  501.008 | 1501.269 | 501.803 | 120.667 | 151.198 |  90.533 |  90.597 | 120.386 | 150.342 |  90.829 | 150.716 | 120.341 | 120.105 |  50.513 | 150.725 | 150.154 |\n",
       "| 1750.291 |  200.965 | 1000.559 | 203.728 |  90.370 | 120.736 |  60.972 |  60.412 |  90.318 | 120.218 |  60.488 | 120.353 |  90.286 |  90.198 |  40.427 | 120.903 |  90.265 |\n",
       "| 1501.069 |  150.542 |  749.709 | 152.381 |  60.016 |  90.098 |  50.346 |  50.301 |  60.876 |  60.502 |  50.378 |  90.547 |  60.698 |  59.925 |  30.455 |  60.837 |  39.418 |\n",
       "| 1000.419 |  120.306 |  500.943 | 121.533 |  49.875 |  60.250 |  40.553 |  40.332 |  50.402 |  50.355 |  40.429 |  60.448 |  50.879 |  49.761 |  20.076 |  50.641 |  30.484 |\n",
       "|  750.033 |   90.308 |  202.382 |  91.170 |  40.474 |  50.339 |  30.263 |  30.110 |  39.968 |  40.898 |  30.436 |  49.860 |  40.990 |  40.532 |  10.462 |  40.791 |  20.591 |\n",
       "|  500.130 |   60.446 |  151.072 |  61.094 |  29.979 |  39.982 |  20.123 |  20.260 |  30.616 |  30.437 |  20.256 |  40.130 |  30.122 |  29.778 |      NA |      NA |  10.237 |\n",
       "|  200.118 |   50.363 |  121.168 |  49.831 |  20.405 |  29.955 |  10.534 |   9.983 |  20.127 |  19.957 |  10.239 |  30.033 |  20.643 |  20.175 |      NA |      NA |      NA |\n",
       "|  149.430 |   40.254 |   91.780 |  40.401 |  10.133 |  20.313 |      NA |      NA |  10.383 |  10.182 |      NA |  20.045 |      NA |  10.053 |      NA |      NA |      NA |\n",
       "|  120.215 |   30.312 |   61.373 |  30.413 |      NA |  10.465 |      NA |      NA |      NA |      NA |      NA |  10.058 |      NA |      NA |      NA |      NA |      NA |\n",
       "|   90.378 |   20.225 |   50.733 |  20.323 |      NA |      NA |      NA |      NA |      NA |      NA |      NA |      NA |      NA |      NA |      NA |      NA |      NA |\n",
       "|   60.158 |   10.489 |   40.543 |  10.517 |      NA |      NA |      NA |      NA |      NA |      NA |      NA |      NA |      NA |      NA |      NA |      NA |      NA |\n",
       "|   50.047 |       NA |   30.808 |      NA |      NA |      NA |      NA |      NA |      NA |      NA |      NA |      NA |      NA |      NA |      NA |      NA |      NA |\n",
       "|   40.180 |       NA |   20.485 |      NA |      NA |      NA |      NA |      NA |      NA |      NA |      NA |      NA |      NA |      NA |      NA |      NA |      NA |\n",
       "|   30.256 |       NA |   10.584 |      NA |      NA |      NA |      NA |      NA |      NA |      NA |      NA |      NA |      NA |      NA |      NA |      NA |      NA |\n",
       "|   19.994 |       NA |       NA |      NA |      NA |      NA |      NA |      NA |      NA |      NA |      NA |      NA |      NA |      NA |      NA |      NA |      NA |\n",
       "|   10.005 |       NA |       NA |      NA |      NA |      NA |      NA |      NA |      NA |      NA |      NA |      NA |      NA |      NA |      NA |      NA |      NA |\n",
       "\n"
      ],
      "text/plain": [
       "      [,1]     [,2]     [,3]     [,4]    [,5]    [,6]    [,7]    [,8]   \n",
       " [1,] 3621.132 2927.991 2004.164 871.436 201.465 211.932 201.796 135.949\n",
       " [2,] 2500.721  750.370 1750.716 751.068 150.900 200.174 120.500 120.362\n",
       " [3,] 2000.283  501.008 1501.269 501.803 120.667 151.198  90.533  90.597\n",
       " [4,] 1750.291  200.965 1000.559 203.728  90.370 120.736  60.972  60.412\n",
       " [5,] 1501.069  150.542  749.709 152.381  60.016  90.098  50.346  50.301\n",
       " [6,] 1000.419  120.306  500.943 121.533  49.875  60.250  40.553  40.332\n",
       " [7,]  750.033   90.308  202.382  91.170  40.474  50.339  30.263  30.110\n",
       " [8,]  500.130   60.446  151.072  61.094  29.979  39.982  20.123  20.260\n",
       " [9,]  200.118   50.363  121.168  49.831  20.405  29.955  10.534   9.983\n",
       "[10,]  149.430   40.254   91.780  40.401  10.133  20.313      NA      NA\n",
       "[11,]  120.215   30.312   61.373  30.413      NA  10.465      NA      NA\n",
       "[12,]   90.378   20.225   50.733  20.323      NA      NA      NA      NA\n",
       "[13,]   60.158   10.489   40.543  10.517      NA      NA      NA      NA\n",
       "[14,]   50.047       NA   30.808      NA      NA      NA      NA      NA\n",
       "[15,]   40.180       NA   20.485      NA      NA      NA      NA      NA\n",
       "[16,]   30.256       NA   10.584      NA      NA      NA      NA      NA\n",
       "[17,]   19.994       NA       NA      NA      NA      NA      NA      NA\n",
       "[18,]   10.005       NA       NA      NA      NA      NA      NA      NA\n",
       "      [,9]    [,10]   [,11]   [,12]   [,13]   [,14]   [,15]   [,16]   [,17]  \n",
       " [1,] 203.936 330.989 198.234 291.462 177.767 177.805 120.784 301.860 315.573\n",
       " [2,] 150.334 200.580 151.539 200.712 150.295 150.535  90.713 200.579 200.211\n",
       " [3,] 120.386 150.342  90.829 150.716 120.341 120.105  50.513 150.725 150.154\n",
       " [4,]  90.318 120.218  60.488 120.353  90.286  90.198  40.427 120.903  90.265\n",
       " [5,]  60.876  60.502  50.378  90.547  60.698  59.925  30.455  60.837  39.418\n",
       " [6,]  50.402  50.355  40.429  60.448  50.879  49.761  20.076  50.641  30.484\n",
       " [7,]  39.968  40.898  30.436  49.860  40.990  40.532  10.462  40.791  20.591\n",
       " [8,]  30.616  30.437  20.256  40.130  30.122  29.778      NA      NA  10.237\n",
       " [9,]  20.127  19.957  10.239  30.033  20.643  20.175      NA      NA      NA\n",
       "[10,]  10.383  10.182      NA  20.045      NA  10.053      NA      NA      NA\n",
       "[11,]      NA      NA      NA  10.058      NA      NA      NA      NA      NA\n",
       "[12,]      NA      NA      NA      NA      NA      NA      NA      NA      NA\n",
       "[13,]      NA      NA      NA      NA      NA      NA      NA      NA      NA\n",
       "[14,]      NA      NA      NA      NA      NA      NA      NA      NA      NA\n",
       "[15,]      NA      NA      NA      NA      NA      NA      NA      NA      NA\n",
       "[16,]      NA      NA      NA      NA      NA      NA      NA      NA      NA\n",
       "[17,]      NA      NA      NA      NA      NA      NA      NA      NA      NA\n",
       "[18,]      NA      NA      NA      NA      NA      NA      NA      NA      NA"
      ]
     },
     "metadata": {},
     "output_type": "display_data"
    }
   ],
   "source": [
    "pressure <- var.get.nc(data, \"PRESSURE\")\n",
    "pressure"
   ]
  },
  {
   "cell_type": "markdown",
   "id": "df517548",
   "metadata": {},
   "source": [
    "As you can see, *PRESSURE* is a 2D matrix. If we want the data for the 5th profile only:"
   ]
  },
  {
   "cell_type": "code",
   "execution_count": 4,
   "id": "ab1b4629",
   "metadata": {},
   "outputs": [
    {
     "data": {
      "text/html": [
       "<style>\n",
       ".list-inline {list-style: none; margin:0; padding: 0}\n",
       ".list-inline>li {display: inline-block}\n",
       ".list-inline>li:not(:last-child)::after {content: \"\\00b7\"; padding: 0 .5ex}\n",
       "</style>\n",
       "<ol class=list-inline><li>201.464996337891</li><li>150.899993896484</li><li>120.666999816895</li><li>90.370002746582</li><li>60.015998840332</li><li>49.875</li><li>40.4739990234375</li><li>29.9790000915527</li><li>20.4050006866455</li><li>10.1330003738403</li><li>&lt;NA&gt;</li><li>&lt;NA&gt;</li><li>&lt;NA&gt;</li><li>&lt;NA&gt;</li><li>&lt;NA&gt;</li><li>&lt;NA&gt;</li><li>&lt;NA&gt;</li><li>&lt;NA&gt;</li></ol>\n"
      ],
      "text/latex": [
       "\\begin{enumerate*}\n",
       "\\item 201.464996337891\n",
       "\\item 150.899993896484\n",
       "\\item 120.666999816895\n",
       "\\item 90.370002746582\n",
       "\\item 60.015998840332\n",
       "\\item 49.875\n",
       "\\item 40.4739990234375\n",
       "\\item 29.9790000915527\n",
       "\\item 20.4050006866455\n",
       "\\item 10.1330003738403\n",
       "\\item <NA>\n",
       "\\item <NA>\n",
       "\\item <NA>\n",
       "\\item <NA>\n",
       "\\item <NA>\n",
       "\\item <NA>\n",
       "\\item <NA>\n",
       "\\item <NA>\n",
       "\\end{enumerate*}\n"
      ],
      "text/markdown": [
       "1. 201.464996337891\n",
       "2. 150.899993896484\n",
       "3. 120.666999816895\n",
       "4. 90.370002746582\n",
       "5. 60.015998840332\n",
       "6. 49.875\n",
       "7. 40.4739990234375\n",
       "8. 29.9790000915527\n",
       "9. 20.4050006866455\n",
       "10. 10.1330003738403\n",
       "11. &lt;NA&gt;\n",
       "12. &lt;NA&gt;\n",
       "13. &lt;NA&gt;\n",
       "14. &lt;NA&gt;\n",
       "15. &lt;NA&gt;\n",
       "16. &lt;NA&gt;\n",
       "17. &lt;NA&gt;\n",
       "18. &lt;NA&gt;\n",
       "\n",
       "\n"
      ],
      "text/plain": [
       " [1] 201.465 150.900 120.667  90.370  60.016  49.875  40.474  29.979  20.405\n",
       "[10]  10.133      NA      NA      NA      NA      NA      NA      NA      NA"
      ]
     },
     "metadata": {},
     "output_type": "display_data"
    }
   ],
   "source": [
    "var.get.nc(data, \"PRESSURE\", start=c(NA, 5), count=c(NA, 1))"
   ]
  },
  {
   "cell_type": "markdown",
   "id": "46975c45",
   "metadata": {},
   "source": [
    "Often, however, it is more useful to be able to access individual profiles based on the time or latitude and longitude.\n",
    "\n",
    "### Access data for one latitude (or longitude)\n",
    "\n",
    "Let's look at the latitudes in the data first."
   ]
  },
  {
   "cell_type": "code",
   "execution_count": 5,
   "id": "54f0356e",
   "metadata": {
    "scrolled": true
   },
   "outputs": [
    {
     "data": {
      "text/html": [
       "<style>\n",
       ".list-inline {list-style: none; margin:0; padding: 0}\n",
       ".list-inline>li {display: inline-block}\n",
       ".list-inline>li:not(:last-child)::after {content: \"\\00b7\"; padding: 0 .5ex}\n",
       "</style>\n",
       "<ol class=list-inline><li>82.0698318481445</li><li>81.6928329467773</li><li>81.6181640625</li><li>81.5456695556641</li><li>81.4591674804688</li><li>81.313835144043</li><li>80.9980010986328</li><li>80.5206680297852</li><li>79.9964981079102</li><li>79.7320022583008</li><li>79.2386703491211</li><li>78.7501678466797</li><li>77.9990005493164</li><li>77.4996643066406</li><li>77.0051651000977</li><li>76.4988327026367</li><li>75.9994964599609</li></ol>\n"
      ],
      "text/latex": [
       "\\begin{enumerate*}\n",
       "\\item 82.0698318481445\n",
       "\\item 81.6928329467773\n",
       "\\item 81.6181640625\n",
       "\\item 81.5456695556641\n",
       "\\item 81.4591674804688\n",
       "\\item 81.313835144043\n",
       "\\item 80.9980010986328\n",
       "\\item 80.5206680297852\n",
       "\\item 79.9964981079102\n",
       "\\item 79.7320022583008\n",
       "\\item 79.2386703491211\n",
       "\\item 78.7501678466797\n",
       "\\item 77.9990005493164\n",
       "\\item 77.4996643066406\n",
       "\\item 77.0051651000977\n",
       "\\item 76.4988327026367\n",
       "\\item 75.9994964599609\n",
       "\\end{enumerate*}\n"
      ],
      "text/markdown": [
       "1. 82.0698318481445\n",
       "2. 81.6928329467773\n",
       "3. 81.6181640625\n",
       "4. 81.5456695556641\n",
       "5. 81.4591674804688\n",
       "6. 81.313835144043\n",
       "7. 80.9980010986328\n",
       "8. 80.5206680297852\n",
       "9. 79.9964981079102\n",
       "10. 79.7320022583008\n",
       "11. 79.2386703491211\n",
       "12. 78.7501678466797\n",
       "13. 77.9990005493164\n",
       "14. 77.4996643066406\n",
       "15. 77.0051651000977\n",
       "16. 76.4988327026367\n",
       "17. 75.9994964599609\n",
       "\n",
       "\n"
      ],
      "text/plain": [
       " [1] 82.06983 81.69283 81.61816 81.54567 81.45917 81.31384 80.99800 80.52067\n",
       " [9] 79.99650 79.73200 79.23867 78.75017 77.99900 77.49966 77.00517 76.49883\n",
       "[17] 75.99950"
      ]
     },
     "metadata": {},
     "output_type": "display_data"
    }
   ],
   "source": [
    "latitude <- var.get.nc(data, \"LATITUDE\")\n",
    "latitude"
   ]
  },
  {
   "cell_type": "markdown",
   "id": "5675ce2a",
   "metadata": {},
   "source": [
    "Let's select data for only one of these latitudes."
   ]
  },
  {
   "cell_type": "code",
   "execution_count": 6,
   "id": "cfd22a47",
   "metadata": {},
   "outputs": [
    {
     "data": {
      "image/png": "[encoded data removed]",
      "text/plain": [
       "plot without title"
      ]
     },
     "metadata": {
      "image/png": {
       "height": 420,
       "width": 420
      }
     },
     "output_type": "display_data"
    }
   ],
   "source": [
    "desired_latitude <- 81.6181640625\n",
    "# Finding index of the value\n",
    "latitude_index <- which(latitude == desired_latitude)\n",
    "# Extract NTRI values just for that latitude\n",
    "ntri <- var.get.nc(data, \"NTRI\", start=c(NA, latitude_index), count=c(NA, 1))\n",
    "# Get the associated pressure values\n",
    "pres <- var.get.nc(data, \"PRESSURE\", start=c(NA, latitude_index), count=c(NA, 1))\n",
    "\n",
    "plot(\n",
    "    ntri,\n",
    "    pres,\n",
    "    type='p',\n",
    "    ylim=c(max(pres, na.rm = TRUE),0),\n",
    "    ylab='sea water pressure (dbar)',\n",
    "    xlab= 'mole_concentration_of_nitrite_in_sea_water (umol/l)'\n",
    "    \n",
    ")"
   ]
  },
  {
   "cell_type": "markdown",
   "id": "ad8bb185",
   "metadata": {},
   "source": [
    "### Access data for one time\n",
    "\n",
    "This is similar to the above, but there is an extra step because of the units used for time."
   ]
  },
  {
   "cell_type": "code",
   "execution_count": 7,
   "id": "b1d02dcc",
   "metadata": {},
   "outputs": [
    {
     "data": {
      "text/html": [
       "'days since 1950-01-01T00:00:00Z'"
      ],
      "text/latex": [
       "'days since 1950-01-01T00:00:00Z'"
      ],
      "text/markdown": [
       "'days since 1950-01-01T00:00:00Z'"
      ],
      "text/plain": [
       "[1] \"days since 1950-01-01T00:00:00Z\""
      ]
     },
     "metadata": {},
     "output_type": "display_data"
    }
   ],
   "source": [
    "att.get.nc(data,\"TIME\",\"units\")"
   ]
  },
  {
   "cell_type": "code",
   "execution_count": 8,
   "id": "a04f10e3",
   "metadata": {},
   "outputs": [
    {
     "data": {
      "text/html": [
       "<style>\n",
       ".list-inline {list-style: none; margin:0; padding: 0}\n",
       ".list-inline>li {display: inline-block}\n",
       ".list-inline>li:not(:last-child)::after {content: \"\\00b7\"; padding: 0 .5ex}\n",
       "</style>\n",
       "<ol class=list-inline><li>25538.0155671296</li><li>25539.6234722222</li><li>25539.7941319444</li><li>25540.3431712963</li><li>25541.1488425926</li><li>25541.2703819444</li><li>25541.5777777778</li><li>25541.9844328704</li><li>25542.798587963</li><li>25543.6566203704</li><li>25544.5066550926</li><li>25544.8822337963</li><li>25545.4237268519</li><li>25545.7369097222</li><li>25546.3144328704</li><li>25546.7350925926</li><li>25547.7196643519</li></ol>\n"
      ],
      "text/latex": [
       "\\begin{enumerate*}\n",
       "\\item 25538.0155671296\n",
       "\\item 25539.6234722222\n",
       "\\item 25539.7941319444\n",
       "\\item 25540.3431712963\n",
       "\\item 25541.1488425926\n",
       "\\item 25541.2703819444\n",
       "\\item 25541.5777777778\n",
       "\\item 25541.9844328704\n",
       "\\item 25542.798587963\n",
       "\\item 25543.6566203704\n",
       "\\item 25544.5066550926\n",
       "\\item 25544.8822337963\n",
       "\\item 25545.4237268519\n",
       "\\item 25545.7369097222\n",
       "\\item 25546.3144328704\n",
       "\\item 25546.7350925926\n",
       "\\item 25547.7196643519\n",
       "\\end{enumerate*}\n"
      ],
      "text/markdown": [
       "1. 25538.0155671296\n",
       "2. 25539.6234722222\n",
       "3. 25539.7941319444\n",
       "4. 25540.3431712963\n",
       "5. 25541.1488425926\n",
       "6. 25541.2703819444\n",
       "7. 25541.5777777778\n",
       "8. 25541.9844328704\n",
       "9. 25542.798587963\n",
       "10. 25543.6566203704\n",
       "11. 25544.5066550926\n",
       "12. 25544.8822337963\n",
       "13. 25545.4237268519\n",
       "14. 25545.7369097222\n",
       "15. 25546.3144328704\n",
       "16. 25546.7350925926\n",
       "17. 25547.7196643519\n",
       "\n",
       "\n"
      ],
      "text/plain": [
       " [1] 25538.02 25539.62 25539.79 25540.34 25541.15 25541.27 25541.58 25541.98\n",
       " [9] 25542.80 25543.66 25544.51 25544.88 25545.42 25545.74 25546.31 25546.74\n",
       "[17] 25547.72"
      ]
     },
     "metadata": {},
     "output_type": "display_data"
    }
   ],
   "source": [
    "days_since_1950 <- var.get.nc(data,\"TIME\")\n",
    "days_since_1950"
   ]
  },
  {
   "cell_type": "markdown",
   "id": "7aad9416",
   "metadata": {},
   "source": [
    "Let's convert these to timestamps so we can see what times are in our dataset."
   ]
  },
  {
   "cell_type": "code",
   "execution_count": 9,
   "id": "75ecf4b7",
   "metadata": {
    "scrolled": true
   },
   "outputs": [
    {
     "data": {
      "text/plain": [
       " [1] \"2019-12-03 00:22:25 UTC\" \"2019-12-04 14:57:48 UTC\"\n",
       " [3] \"2019-12-04 19:03:33 UTC\" \"2019-12-05 08:14:10 UTC\"\n",
       " [5] \"2019-12-06 03:34:20 UTC\" \"2019-12-06 06:29:21 UTC\"\n",
       " [7] \"2019-12-06 13:52:00 UTC\" \"2019-12-06 23:37:34 UTC\"\n",
       " [9] \"2019-12-07 19:09:58 UTC\" \"2019-12-08 15:45:32 UTC\"\n",
       "[11] \"2019-12-09 12:09:35 UTC\" \"2019-12-09 21:10:25 UTC\"\n",
       "[13] \"2019-12-10 10:10:10 UTC\" \"2019-12-10 17:41:09 UTC\"\n",
       "[15] \"2019-12-11 07:32:47 UTC\" \"2019-12-11 17:38:32 UTC\"\n",
       "[17] \"2019-12-12 17:16:19 UTC\""
      ]
     },
     "metadata": {},
     "output_type": "display_data"
    }
   ],
   "source": [
    "# Define the origin date\n",
    "origin_date <- as.POSIXct(\"1950-01-01 00:00:00\", tz = \"UTC\")\n",
    "\n",
    "# Convert days to seconds\n",
    "seconds_since_1950 <- days_since_1950 * 24 * 60 * 60\n",
    "\n",
    "# Convert to timestamps\n",
    "timestamps <- origin_date + seconds_since_1950\n",
    "timestamps"
   ]
  },
  {
   "cell_type": "markdown",
   "id": "f1f8253c",
   "metadata": {},
   "source": [
    "So we need to time series (above), work out what index in the time series our desired date corresponds to, and then select from the data variable based on that index."
   ]
  },
  {
   "cell_type": "code",
   "execution_count": 10,
   "id": "559888c9",
   "metadata": {},
   "outputs": [
    {
     "data": {
      "image/png": "[encoded data removed]",
      "text/plain": [
       "plot without title"
      ]
     },
     "metadata": {
      "image/png": {
       "height": 420,
       "width": 420
      }
     },
     "output_type": "display_data"
    }
   ],
   "source": [
    "desired_time <- as.POSIXct(\"2019-12-06 06:29:21\", tz = \"UTC\")\n",
    "\n",
    "# Finding the index of that value\n",
    "time_index <- which(timestamps == desired_time)\n",
    "\n",
    "# Extract NTRI values just for that time\n",
    "ntri <- var.get.nc(data, \"NTRI\", start=c(NA, time_index), count=c(NA, 1))\n",
    "# Get the associated pressure values\n",
    "pres <- var.get.nc(data, \"PRESSURE\", start=c(NA, time_index), count=c(NA, 1))\n",
    "\n",
    "plot(\n",
    "    ntri,\n",
    "    pres,\n",
    "    type='p',\n",
    "    ylim=c(max(pres, na.rm = TRUE),0),\n",
    "    ylab='sea water pressure (dbar)',\n",
    "    xlab= 'mole_concentration_of_nitrite_in_sea_water (umol/l)'\n",
    "    \n",
    ")"
   ]
  },
  {
   "cell_type": "markdown",
   "id": "1fb61046",
   "metadata": {},
   "source": [
    "## Citing the data\n",
    "\n",
    "Please cite the data for the cruise or cruises you have used the data from.\n",
    "\n",
    "For the data used in this notebook, the citation is:\n",
    "\n",
    "*Melissa Chierici, Elizabeth Jones, Helene Hodal Lødemel (2021) Water column data on dissolved inorganic nutrients (nitrite, nitrate, phosphate and silicic acid) from the Nansen LEGACY seasonal cruise Q4, 2019711 with R.V. Kronprins Haakon https://doi.org/10.21335/NMDC-1629206101*\n",
    "\n",
    "## Citing this tutorial\n",
    "\n",
    "If you find this tutorial series useful for your work, consider citing the repository:\n",
    "\n",
    "Luke Marsden. (2024, May 24). Accessing Nansen Legacy data in R. Zenodo. https://doi.org/10.5281/zenodo.11277693\n",
    "\n",
    "[![DOI](https://zenodo.org/badge/DOI/10.5281/zenodo.11277693.svg)](https://doi.org/10.5281/zenodo.11277693)\n"
   ]
  }
 ],
 "metadata": {
  "kernelspec": {
   "display_name": "R",
   "language": "R",
   "name": "ir"
  },
  "language_info": {
   "codemirror_mode": "r",
   "file_extension": ".r",
   "mimetype": "text/x-r-source",
   "name": "R",
   "pygments_lexer": "r",
   "version": "4.3.3"
  }
 },
 "nbformat": 4,
 "nbformat_minor": 5
}
